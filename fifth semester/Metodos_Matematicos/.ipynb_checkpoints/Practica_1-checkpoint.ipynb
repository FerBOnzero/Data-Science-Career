{
 "cells": [
  {
   "cell_type": "markdown",
   "id": "a24c0cfa-412c-4e4d-a980-6e581381e14c",
   "metadata": {},
   "source": [
    "# Factorización de Crout"
   ]
  },
  {
   "cell_type": "code",
   "execution_count": 1,
   "id": "e01718df-0f06-4d01-a963-267a7a2724a8",
   "metadata": {},
   "outputs": [],
   "source": [
    "# Librerías a utilizar\n",
    "import numpy as np"
   ]
  },
  {
   "cell_type": "markdown",
   "id": "6ba770ac-275e-4b58-8ab1-24b1ff7677bf",
   "metadata": {},
   "source": [
    "- Una función que encuentre la factorización PLU de una matriz A. La función debe verificar que la matriz sea cuadrada e invertible. La prueba para saber si A es invertible debe hacerse con la condición del máximo distinto de cero."
   ]
  },
  {
   "cell_type": "markdown",
   "id": "9e7f867b-b011-4076-8a79-1f54d5d1a195",
   "metadata": {},
   "source": [
    "Recordemos que la Factorización PLU, factoriza la matríz A como la multiplicación de tres matrices. Dicha factorización está dada por: $$A=PLU$$"
   ]
  },
  {
   "cell_type": "code",
   "execution_count": 78,
   "id": "c2c05750-a1a8-4cfc-b0e0-19a05ef216ea",
   "metadata": {},
   "outputs": [],
   "source": [
    "def factorizacion_PLU(A): \n",
    "    # El formato de A es [[a,b], [c,d], [],...]\n",
    "    A_matrix = np.matrix(A)\n",
    "    \n",
    "    # ¿La matríz es cuadrada e invertible?\n",
    "    num_rows, num_cols = A_matrix.shape\n",
    "    # Declaramos las matrices P y L\n",
    "    P, L = np.identity(num_rows), np.zeros((num_rows,num_cols))\n",
    "    \n",
    "    if num_rows == num_cols:\n",
    "        print(f'La matriz \\n {A_matrix} es cuadrada.')\n",
    "    else:\n",
    "        return 'La matriz no es cuadrada por lo tanto no es invertible.'\n",
    "    \n",
    "    # Paso 2 del algoritmo \n",
    "    count = 0\n",
    "    while count < num_cols - 1: #tenemos que detenernos una columna antes \n",
    "        A_columna = A_matrix[:,count]\n",
    "        A_columna = np.reshape(A_columna, num_rows)\n",
    "        max_value = np.amax(A_columna)\n",
    "        if max_value == 0: \n",
    "            return f'Tenemos que en la columna {count + 1}, es decir {A_columna} el máximo es cero, entonces es singular y no se encuentra factorización'        \n",
    "        index_y,index_x = np.where(A_columna == max_value)\n",
    "        \n",
    "        #cambio de renglones\n",
    "        A_matrix[[index_x[0], index_y[0]]] = A_matrix[[index_y[0], index_x[0]]]\n",
    "        P[[index_y[0], index_x[0]]] = P[[index_x[0], index_y[0]]]\n",
    "        L[[index_y[0], index_x[0]]] = L[[index_x[0], index_y[0]]]\n",
    "        count += 1\n",
    "    else:\n",
    "        print('No es singular')\n",
    "    print(f'Matrices cambiadas: \\n A = {A_matrix} \\n P ={P} \\n L={L}')\n",
    "    \n",
    "    #Paso 3 del algoritmo\n",
    "    "
   ]
  },
  {
   "cell_type": "code",
   "execution_count": 79,
   "id": "75de35f5-582e-428c-bad2-4407322e6948",
   "metadata": {},
   "outputs": [
    {
     "name": "stdout",
     "output_type": "stream",
     "text": [
      "La matriz \n",
      " [[5 6]\n",
      " [8 4]] es cuadrada.\n",
      "No es singular\n",
      "Matrices cambiadas: \n",
      " A = [[8 4]\n",
      " [5 6]] \n",
      " P =[[0. 1.]\n",
      " [1. 0.]] \n",
      " L=[[0. 0.]\n",
      " [0. 0.]]\n"
     ]
    }
   ],
   "source": [
    "factorizacion_PLU([[5,6],[8,4]])\n",
    "#factorizacion_PLU([[1,0],[3,4]])"
   ]
  },
  {
   "cell_type": "code",
   "execution_count": 80,
   "id": "129509b0-4be9-434c-8c08-4d8b250223a5",
   "metadata": {},
   "outputs": [
    {
     "data": {
      "text/plain": [
       "'La matriz no es cuadrada por lo tanto no es invertible.'"
      ]
     },
     "execution_count": 80,
     "metadata": {},
     "output_type": "execute_result"
    }
   ],
   "source": [
    "factorizacion_PLU([[1,2,3],[4,5,6]])"
   ]
  },
  {
   "cell_type": "code",
   "execution_count": 81,
   "id": "ebbd1a10-db41-4895-903b-59fe1c8c957d",
   "metadata": {},
   "outputs": [
    {
     "name": "stdout",
     "output_type": "stream",
     "text": [
      "La matriz \n",
      " [[0 0]\n",
      " [3 4]] es cuadrada.\n",
      "No es singular\n",
      "Matrices cambiadas: \n",
      " A = [[3 4]\n",
      " [0 0]] \n",
      " P =[[0. 1.]\n",
      " [1. 0.]] \n",
      " L=[[0. 0.]\n",
      " [0. 0.]]\n"
     ]
    }
   ],
   "source": [
    "factorizacion_PLU([[0,0],[3,4]])"
   ]
  },
  {
   "cell_type": "code",
   "execution_count": 82,
   "id": "d51f3576-43f1-4cb8-a0be-b7cdc070c5c5",
   "metadata": {},
   "outputs": [
    {
     "name": "stdout",
     "output_type": "stream",
     "text": [
      "La matriz \n",
      " [[0 0]\n",
      " [0 4]] es cuadrada.\n"
     ]
    },
    {
     "data": {
      "text/plain": [
       "'Tenemos que en la columna 1, es decir [[0 0]] el máximo es cero, entonces es singular y no se encuentra factorización'"
      ]
     },
     "execution_count": 82,
     "metadata": {},
     "output_type": "execute_result"
    }
   ],
   "source": [
    "factorizacion_PLU([[0,0],[0,4]])"
   ]
  }
 ],
 "metadata": {
  "kernelspec": {
   "display_name": "Python 3 (ipykernel)",
   "language": "python",
   "name": "python3"
  },
  "language_info": {
   "codemirror_mode": {
    "name": "ipython",
    "version": 3
   },
   "file_extension": ".py",
   "mimetype": "text/x-python",
   "name": "python",
   "nbconvert_exporter": "python",
   "pygments_lexer": "ipython3",
   "version": "3.8.12"
  }
 },
 "nbformat": 4,
 "nbformat_minor": 5
}
