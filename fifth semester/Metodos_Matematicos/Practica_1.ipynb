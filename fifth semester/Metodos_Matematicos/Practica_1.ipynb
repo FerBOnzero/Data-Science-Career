{
 "cells": [
  {
   "cell_type": "markdown",
   "id": "a24c0cfa-412c-4e4d-a980-6e581381e14c",
   "metadata": {},
   "source": [
    "# Factorización de Crout"
   ]
  },
  {
   "cell_type": "code",
   "execution_count": 1,
   "id": "e01718df-0f06-4d01-a963-267a7a2724a8",
   "metadata": {},
   "outputs": [],
   "source": [
    "# Librerías a utilizar\n",
    "import numpy as np"
   ]
  },
  {
   "cell_type": "markdown",
   "id": "6ba770ac-275e-4b58-8ab1-24b1ff7677bf",
   "metadata": {},
   "source": [
    "- Una función que encuentre la factorización PLU de una matriz A. La función debe verificar que la matriz sea cuadrada e invertible. La prueba para saber si A es invertible debe hacerse con la condición del máximo distinto de cero."
   ]
  },
  {
   "cell_type": "markdown",
   "id": "9e7f867b-b011-4076-8a79-1f54d5d1a195",
   "metadata": {},
   "source": [
    "Recordemos que la Factorización PLU, factoriza la matríz A como la multiplicación de tres matrices. Dicha factorización está dada por: $$A=PLU$$"
   ]
  },
  {
   "cell_type": "code",
   "execution_count": 2,
   "id": "d70bbb05-69f9-43e6-9b29-80eb4fc3876f",
   "metadata": {},
   "outputs": [
    {
     "data": {
      "text/plain": [
       "matrix([[ 8, 10, 12]])"
      ]
     },
     "execution_count": 2,
     "metadata": {},
     "output_type": "execute_result"
    }
   ],
   "source": [
    "# mis pruebas \n",
    "matrix_proof = np.matrix([[1,2,3],[4,5,6]])\n",
    "2*matrix_proof[1,:]"
   ]
  },
  {
   "cell_type": "code",
   "execution_count": 28,
   "id": "c2c05750-a1a8-4cfc-b0e0-19a05ef216ea",
   "metadata": {},
   "outputs": [],
   "source": [
    "def factorizacion_PLU(A): \n",
    "    # El formato de A es [[a,b], [c,d], [],...]\n",
    "    A_matrix = np.matrix(A)\n",
    "    \n",
    "    # ¿La matríz es cuadrada e invertible?\n",
    "    num_rows, num_cols = A_matrix.shape\n",
    "    # Declaramos las matrices P, L y U\n",
    "    P, L, U_matrix = np.identity(num_rows), np.zeros((num_rows,num_cols)), A_matrix\n",
    "    \n",
    "    if num_rows == num_cols:\n",
    "        print(f'La matriz \\n {A_matrix} es cuadrada.')\n",
    "    else:\n",
    "        return 'La matriz no es cuadrada por lo tanto no es invertible.'\n",
    "    \n",
    "    # Paso 2 del algoritmo \n",
    "    count = 0\n",
    "    while count < num_cols - 1: #tenemos que detenernos una columna antes \n",
    "        U_columna = U_matrix[:,count]\n",
    "        U_columna = np.reshape(U_columna, num_rows)\n",
    "        max_value = np.amax(U_columna)\n",
    "        if max_value == 0: \n",
    "            return f'Tenemos que en la columna {count + 1}, es decir {U_columna} el máximo es cero, entonces es singular y no se encuentra factorización'        \n",
    "        index_y,index_x = np.where(U_columna == max_value)\n",
    "        \n",
    "        #cambio de renglones\n",
    "        U_matrix[[index_x[0], index_y[0]]] = U_matrix[[index_y[0], index_x[0]]]\n",
    "        P[[index_y[0], index_x[0]]] = P[[index_x[0], index_y[0]]]\n",
    "        L[[index_y[0], index_x[0]]] = L[[index_x[0], index_y[0]]]\n",
    "        count += 1\n",
    "    else:\n",
    "        print('No es singular')\n",
    "    print(f'Matrices cambiadas: \\n U = {U_matrix} \\n P ={P} \\n L={L}')\n",
    "    \n",
    "    #Paso 3 del algoritmo\n",
    "    '''\n",
    "    for i in range(num_cols):\n",
    "        for j in range(num_rows):\n",
    "            if i < j:\n",
    "                value_L = U_matrix[j,i] / U_matrix[i,i]\n",
    "                print(f'{U_matrix[j,i]}, {U_matrix[i,i]}, entonces {value_L}')\n",
    "                L[j,i] = value_L\n",
    "            else:\n",
    "                continue\n",
    "    '''\n",
    "    for i in range(num_rows):\n",
    "        if 0 < i:\n",
    "            value_L = U_matrix[i,0] / U_matrix[0,0] \n",
    "            print(f'{U_matrix[i,0]}, {U_matrix[0,0]}, entonces {value_L}')\n",
    "            L[i,0] = value_L\n",
    "            U_matrix[i, :] = U_matrix[i, :] - value_L*U_matrix[i,0]\n",
    "#            U_matrix[i,1] = U_matrix[i,1] - value_L*U_matrix[1,1]\n",
    "    print('Nuevo L: ', L)\n",
    "    print('Nuevo U:' , U_matrix)"
   ]
  },
  {
   "cell_type": "code",
   "execution_count": 22,
   "id": "75de35f5-582e-428c-bad2-4407322e6948",
   "metadata": {},
   "outputs": [
    {
     "name": "stdout",
     "output_type": "stream",
     "text": [
      "La matriz \n",
      " [[5 6]\n",
      " [8 4]] es cuadrada.\n",
      "No es singular\n",
      "Matrices cambiadas: \n",
      " U = [[8 4]\n",
      " [5 6]] \n",
      " P =[[0. 1.]\n",
      " [1. 0.]] \n",
      " L=[[0. 0.]\n",
      " [0. 0.]]\n",
      "5, 8, entonces 0.625\n",
      "Nuevo L:  [[0.    0.   ]\n",
      " [0.625 0.   ]]\n",
      "Nuevo U: [[8 4]\n",
      " [0 6]]\n"
     ]
    }
   ],
   "source": [
    "factorizacion_PLU([[5,6],[8,4]])\n",
    "#factorizacion_PLU([[1,0],[3,4]])"
   ]
  },
  {
   "cell_type": "code",
   "execution_count": 80,
   "id": "129509b0-4be9-434c-8c08-4d8b250223a5",
   "metadata": {},
   "outputs": [
    {
     "data": {
      "text/plain": [
       "'La matriz no es cuadrada por lo tanto no es invertible.'"
      ]
     },
     "execution_count": 80,
     "metadata": {},
     "output_type": "execute_result"
    }
   ],
   "source": [
    "factorizacion_PLU([[1,2,3],[4,5,6]])"
   ]
  },
  {
   "cell_type": "code",
   "execution_count": 18,
   "id": "ebbd1a10-db41-4895-903b-59fe1c8c957d",
   "metadata": {},
   "outputs": [
    {
     "name": "stdout",
     "output_type": "stream",
     "text": [
      "La matriz \n",
      " [[0 0]\n",
      " [3 4]] es cuadrada.\n",
      "No es singular\n",
      "Matrices cambiadas: \n",
      " A = [[3 4]\n",
      " [0 0]] \n",
      " P =[[0. 1.]\n",
      " [1. 0.]] \n",
      " L=[[0. 0.]\n",
      " [0. 0.]]\n",
      "0, 3, entonces 0.0\n",
      "Nuevo L:  [[0. 0.]\n",
      " [0. 0.]]\n"
     ]
    }
   ],
   "source": [
    "factorizacion_PLU([[0,0],[3,4]])"
   ]
  },
  {
   "cell_type": "code",
   "execution_count": 29,
   "id": "8dfb7d07-660f-4e29-b089-e068b93adc32",
   "metadata": {},
   "outputs": [
    {
     "name": "stdout",
     "output_type": "stream",
     "text": [
      "La matriz \n",
      " [[1 2 0]\n",
      " [3 5 2]\n",
      " [0 2 1]] es cuadrada.\n",
      "No es singular\n",
      "Matrices cambiadas: \n",
      " U = [[3 5 2]\n",
      " [1 2 0]\n",
      " [0 2 1]] \n",
      " P =[[0. 1. 0.]\n",
      " [1. 0. 0.]\n",
      " [0. 0. 1.]] \n",
      " L=[[0. 0. 0.]\n",
      " [0. 0. 0.]\n",
      " [0. 0. 0.]]\n",
      "1, 3, entonces 0.3333333333333333\n",
      "0, 3, entonces 0.0\n",
      "Nuevo L:  [[0.         0.         0.        ]\n",
      " [0.33333333 0.         0.        ]\n",
      " [0.         0.         0.        ]]\n",
      "Nuevo U: [[3 5 2]\n",
      " [0 1 0]\n",
      " [0 2 1]]\n"
     ]
    }
   ],
   "source": [
    "factorizacion_PLU([[1,2,0], [3,5,2], [0,2,1]])"
   ]
  },
  {
   "cell_type": "code",
   "execution_count": 19,
   "id": "d51f3576-43f1-4cb8-a0be-b7cdc070c5c5",
   "metadata": {},
   "outputs": [
    {
     "name": "stdout",
     "output_type": "stream",
     "text": [
      "La matriz \n",
      " [[0 0]\n",
      " [0 4]] es cuadrada.\n"
     ]
    },
    {
     "data": {
      "text/plain": [
       "'Tenemos que en la columna 1, es decir [[0 0]] el máximo es cero, entonces es singular y no se encuentra factorización'"
      ]
     },
     "execution_count": 19,
     "metadata": {},
     "output_type": "execute_result"
    }
   ],
   "source": [
    "factorizacion_PLU([[0,0],[0,4]])"
   ]
  }
 ],
 "metadata": {
  "kernelspec": {
   "display_name": "Python 3 (ipykernel)",
   "language": "python",
   "name": "python3"
  },
  "language_info": {
   "codemirror_mode": {
    "name": "ipython",
    "version": 3
   },
   "file_extension": ".py",
   "mimetype": "text/x-python",
   "name": "python",
   "nbconvert_exporter": "python",
   "pygments_lexer": "ipython3",
   "version": "3.8.12"
  }
 },
 "nbformat": 4,
 "nbformat_minor": 5
}
