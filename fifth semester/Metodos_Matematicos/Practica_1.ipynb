{
 "cells": [
  {
   "cell_type": "markdown",
   "id": "a24c0cfa-412c-4e4d-a980-6e581381e14c",
   "metadata": {},
   "source": [
    "# Factorización de Crout\n",
    "\n",
    "#### Nombre: Benites Onofre Fernando Gabriel"
   ]
  },
  {
   "cell_type": "code",
   "execution_count": 1,
   "id": "e01718df-0f06-4d01-a963-267a7a2724a8",
   "metadata": {},
   "outputs": [],
   "source": [
    "# Librerías a utilizar\n",
    "import numpy as np\n",
    "import random"
   ]
  },
  {
   "cell_type": "markdown",
   "id": "6ba770ac-275e-4b58-8ab1-24b1ff7677bf",
   "metadata": {},
   "source": [
    "- ### Una función que encuentre la factorización PLU de una matriz A. La función debe verificar que la matriz sea cuadrada e invertible. La prueba para saber si A es invertible debe hacerse con la condición del máximo distinto de cero."
   ]
  },
  {
   "cell_type": "markdown",
   "id": "9e7f867b-b011-4076-8a79-1f54d5d1a195",
   "metadata": {},
   "source": [
    "Recordemos que la Factorización PLU, factoriza la matríz A como la multiplicación de tres matrices. Dicha factorización está dada por: $$A=PLU$$"
   ]
  },
  {
   "cell_type": "code",
   "execution_count": 2,
   "id": "b5e01d85-b800-4eb6-b85b-968e0c7bb38f",
   "metadata": {},
   "outputs": [],
   "source": [
    "def square_matrix(A, num_row, num_col):\n",
    "    if num_row == num_col:\n",
    "        return True\n",
    "    else:\n",
    "        return False"
   ]
  },
  {
   "cell_type": "code",
   "execution_count": 3,
   "id": "c4f08c3e-fe5f-42e4-8eff-26207f767e27",
   "metadata": {},
   "outputs": [],
   "source": [
    "def factorizacion_PLU(A): \n",
    "    # El formato de A es [[a,b], [c,d], [],...]\n",
    "    A_matrix = np.matrix(A)\n",
    "    A_matrix = A_matrix.astype(float)\n",
    "    # ¿La matríz es cuadrada e invertible?\n",
    "    num_rows, num_cols = A_matrix.shape\n",
    "    \n",
    "    if square_matrix(A_matrix, num_rows, num_cols):\n",
    "        print(f'La matriz \\n {A_matrix} es cuadrada.')\n",
    "    else:\n",
    "        return 'La matriz no es cuadrada por lo tanto no es invertible.'\n",
    "\n",
    "    # Declaramos las matrices P, L y U\n",
    "    P, L, U_matrix = np.identity(num_rows), np.zeros((num_rows,num_cols)), A_matrix.copy()\n",
    "    \n",
    "    # Paso 2, 3, 4 y 5 del algoritmo \n",
    "    count = 0\n",
    "    while count < num_cols - 1: #tenemos que detenernos una columna antes \n",
    "\n",
    "        U_columna = U_matrix[count:,count]\n",
    "        U_columna = np.reshape(U_columna, num_rows-count)\n",
    "        max_value = np.amax(abs(U_columna)) \n",
    "        if max_value == 0: \n",
    "            return f'''Tenemos que en la columna {count + 1}, es decir {U_columna} \n",
    "                    el máximo es cero, entonces es singular y no se encuentra \n",
    "                    factorización'''        \n",
    "        index_y, index_x = np.where(abs(U_matrix[count:,count]) == max_value)\n",
    "        \n",
    "        #cambio de renglones\n",
    "        U_matrix[[index_x[0]+count, index_y[0]+count]] = U_matrix[[index_y[0]+count, index_x[0]+count]]\n",
    "        P[[index_y[0]+count, index_x[0]+count]] = P[[index_x[0]+count, index_y[0]+count]]\n",
    "        L[[index_y[0]+count, index_x[0]+count]] = L[[index_x[0]+count, index_y[0]+count]]\n",
    "\n",
    "        for i in range(count+1, num_rows):\n",
    "            L[i,count] = U_matrix[i,count] / U_matrix[count,count]\n",
    "            U_matrix[i, :] = U_matrix[i, :] - L[i,count]*U_matrix[count,:]\n",
    "\n",
    "        count += 1        \n",
    "    else:\n",
    "        print('La matríz no es singular')\n",
    "    \n",
    "    L = L + np.eye(num_cols)\n",
    "    print(f'P :\\n {P} \\n L :\\n {L} \\n U :\\n {U_matrix} \\n')\n",
    "    return (P,L,U_matrix)"
   ]
  },
  {
   "cell_type": "markdown",
   "id": "9b273a46-a8d9-475c-8c74-461c9806648f",
   "metadata": {},
   "source": [
    "Ya tenemos nuestro programa implementado, por lo cuál ahora haré algunos ejemplos para matríces de disintas dimensiones y capturando los posibles en donde no exista factorización posible en nuestra Matríz de entrada. Recordemos que la matríz resultante $LU$ corresponde a una permutación de la matríz original, y la ecuación que describe esto está dada por $$PA=LU$$ de este modo tenemos que $$A=P^TLU$$ que es lo que a continuación ilustraré con los ejemplos"
   ]
  },
  {
   "cell_type": "code",
   "execution_count": 4,
   "id": "7c1c1a7e-8af0-4a22-bdbb-bfcb0e475269",
   "metadata": {},
   "outputs": [
    {
     "name": "stdout",
     "output_type": "stream",
     "text": [
      "La matriz \n",
      " [[1. 2.]\n",
      " [3. 4.]] es cuadrada.\n",
      "La matríz no es singular\n",
      "P :\n",
      " [[0. 1.]\n",
      " [1. 0.]] \n",
      " L :\n",
      " [[1.         0.        ]\n",
      " [0.33333333 1.        ]] \n",
      " U :\n",
      " [[3.         4.        ]\n",
      " [0.         0.66666667]] \n",
      "\n"
     ]
    }
   ],
   "source": [
    "P, L, U = factorizacion_PLU([[1,2],[3,4]])"
   ]
  },
  {
   "cell_type": "code",
   "execution_count": 5,
   "id": "c298b343-4a65-4e01-a937-ae5d8cdbcf3b",
   "metadata": {},
   "outputs": [
    {
     "data": {
      "text/plain": [
       "matrix([[1., 2.],\n",
       "        [3., 4.]])"
      ]
     },
     "execution_count": 5,
     "metadata": {},
     "output_type": "execute_result"
    }
   ],
   "source": [
    "P.T@L@U"
   ]
  },
  {
   "cell_type": "code",
   "execution_count": 6,
   "id": "0d564f25-e228-4f9c-baf4-5c3466903cbb",
   "metadata": {},
   "outputs": [
    {
     "name": "stdout",
     "output_type": "stream",
     "text": [
      "La matriz \n",
      " [[1. 2. 0.]\n",
      " [3. 5. 2.]\n",
      " [0. 2. 1.]] es cuadrada.\n",
      "La matríz no es singular\n",
      "P :\n",
      " [[0. 1. 0.]\n",
      " [0. 0. 1.]\n",
      " [1. 0. 0.]] \n",
      " L :\n",
      " [[1.         0.         0.        ]\n",
      " [0.         1.         0.        ]\n",
      " [0.33333333 0.16666667 1.        ]] \n",
      " U :\n",
      " [[ 3.          5.          2.        ]\n",
      " [ 0.          2.          1.        ]\n",
      " [ 0.          0.         -0.83333333]] \n",
      "\n"
     ]
    }
   ],
   "source": [
    "P_2, L_2, U_2 = factorizacion_PLU([[1,2,0], [3,5,2], [0,2,1]])"
   ]
  },
  {
   "cell_type": "code",
   "execution_count": 7,
   "id": "2e6b265f-cb93-4479-ab78-952c74cf92c0",
   "metadata": {},
   "outputs": [
    {
     "data": {
      "text/plain": [
       "matrix([[1., 2., 0.],\n",
       "        [3., 5., 2.],\n",
       "        [0., 2., 1.]])"
      ]
     },
     "execution_count": 7,
     "metadata": {},
     "output_type": "execute_result"
    }
   ],
   "source": [
    "P_2.T@L_2@U_2"
   ]
  },
  {
   "cell_type": "code",
   "execution_count": 8,
   "id": "2b543fb4-c6ed-453c-9ee1-6a468668344c",
   "metadata": {},
   "outputs": [
    {
     "name": "stdout",
     "output_type": "stream",
     "text": [
      "La matriz \n",
      " [[4. 4. 4. 5.]\n",
      " [2. 3. 1. 4.]\n",
      " [5. 6. 7. 8.]\n",
      " [5. 4. 3. 2.]] es cuadrada.\n",
      "La matríz no es singular\n",
      "P :\n",
      " [[0. 0. 1. 0.]\n",
      " [0. 0. 0. 1.]\n",
      " [0. 1. 0. 0.]\n",
      " [1. 0. 0. 0.]] \n",
      " L :\n",
      " [[ 1.00000000e+00  0.00000000e+00  0.00000000e+00  0.00000000e+00]\n",
      " [ 1.00000000e+00  1.00000000e+00  0.00000000e+00  0.00000000e+00]\n",
      " [ 4.00000000e-01 -3.00000000e-01  1.00000000e+00  0.00000000e+00]\n",
      " [ 8.00000000e-01  4.00000000e-01 -2.96059473e-16  1.00000000e+00]] \n",
      " U :\n",
      " [[ 5.  6.  7.  8.]\n",
      " [ 0. -2. -4. -6.]\n",
      " [ 0.  0. -3. -1.]\n",
      " [ 0.  0.  0.  1.]] \n",
      "\n"
     ]
    }
   ],
   "source": [
    "P_3, L_3, U_3 = factorizacion_PLU([[4,4,4,5], [2,3,1,4], [5,6,7,8], [5,4,3,2]])"
   ]
  },
  {
   "cell_type": "code",
   "execution_count": 9,
   "id": "f4381adc-a765-4de2-8dbe-72ba4922eb9c",
   "metadata": {},
   "outputs": [
    {
     "data": {
      "text/plain": [
       "matrix([[4., 4., 4., 5.],\n",
       "        [2., 3., 1., 4.],\n",
       "        [5., 6., 7., 8.],\n",
       "        [5., 4., 3., 2.]])"
      ]
     },
     "execution_count": 9,
     "metadata": {},
     "output_type": "execute_result"
    }
   ],
   "source": [
    "P_3.T@L_3@U_3"
   ]
  },
  {
   "cell_type": "code",
   "execution_count": 10,
   "id": "43b81741-b30b-42ad-bacb-67b1c503e6cf",
   "metadata": {},
   "outputs": [
    {
     "data": {
      "text/plain": [
       "'La matriz no es cuadrada por lo tanto no es invertible.'"
      ]
     },
     "execution_count": 10,
     "metadata": {},
     "output_type": "execute_result"
    }
   ],
   "source": [
    "factorizacion_PLU([[1,2,3], [4,5,6]])"
   ]
  },
  {
   "cell_type": "code",
   "execution_count": 11,
   "id": "0b78152a-16d0-43b9-8d62-3ba8282fcfff",
   "metadata": {},
   "outputs": [
    {
     "name": "stdout",
     "output_type": "stream",
     "text": [
      "La matriz \n",
      " [[0. 1.]\n",
      " [0. 3.]] es cuadrada.\n"
     ]
    },
    {
     "data": {
      "text/plain": [
       "'Tenemos que en la columna 1, es decir [[0. 0.]] \\n                    el máximo es cero, entonces es singular y no se encuentra \\n                    factorización'"
      ]
     },
     "execution_count": 11,
     "metadata": {},
     "output_type": "execute_result"
    }
   ],
   "source": [
    "factorizacion_PLU([[0,1],[0,3]])"
   ]
  },
  {
   "cell_type": "code",
   "execution_count": 12,
   "id": "371272a3-3bf6-41de-b475-4eb9866310dd",
   "metadata": {},
   "outputs": [
    {
     "name": "stdout",
     "output_type": "stream",
     "text": [
      "La matriz \n",
      " [[1. 0.]\n",
      " [2. 0.]] es cuadrada.\n",
      "La matríz no es singular\n",
      "P :\n",
      " [[0. 1.]\n",
      " [1. 0.]] \n",
      " L :\n",
      " [[1.  0. ]\n",
      " [0.5 1. ]] \n",
      " U :\n",
      " [[2. 0.]\n",
      " [0. 0.]] \n",
      "\n"
     ]
    }
   ],
   "source": [
    "P_fail, L_fail, U_fail = factorizacion_PLU([[1,0],[2,0]])"
   ]
  },
  {
   "cell_type": "code",
   "execution_count": 13,
   "id": "22dbcb5f-a027-484d-a1fb-c07cc6dc2145",
   "metadata": {},
   "outputs": [
    {
     "data": {
      "text/plain": [
       "matrix([[1., 0.],\n",
       "        [2., 0.]])"
      ]
     },
     "execution_count": 13,
     "metadata": {},
     "output_type": "execute_result"
    }
   ],
   "source": [
    "P_fail.T@L_fail@U_fail"
   ]
  },
  {
   "cell_type": "markdown",
   "id": "f2b7b344-54e1-496e-afca-c4402b523107",
   "metadata": {},
   "source": [
    "- ### Una función que dada una matriz A y un vector b, regrese la solución al sistema Ax=b.\n",
    "\n",
    "Utilizando el hecho de que $PA=LU$, reescribimos el sistema de ecuaciones como $$PAx = Pb$$ $$\\Rightarrow LUx = Pb$$\n",
    "$$\\Rightarrow Ux = L^{-1}Pb$$\n",
    "$$\\Rightarrow x = U^{-1}L^{-1}Pb$$"
   ]
  },
  {
   "cell_type": "code",
   "execution_count": 14,
   "id": "46087664-ba6a-4292-a9fb-5406d8f199e9",
   "metadata": {},
   "outputs": [],
   "source": [
    "def solution_system(A,b): # El parámetro b es parte de la igualdad Ax = b\n",
    "    try:\n",
    "        P, L, U = factorizacion_PLU(A) \n",
    "        b = np.matrix(b)\n",
    "        b = b.astype(float)\n",
    "        return np.linalg.inv(U)@np.linalg.inv(L)@P@b #se espera que el parámetro b se ingrese como [[a,b,...],...]\n",
    "    except: \n",
    "        return 'El sistema no tiene solución'"
   ]
  },
  {
   "cell_type": "code",
   "execution_count": 15,
   "id": "0c2cd121-1e12-46c8-9090-08a15f5a5a4f",
   "metadata": {},
   "outputs": [
    {
     "name": "stdout",
     "output_type": "stream",
     "text": [
      "La matriz \n",
      " [[1. 2.]\n",
      " [3. 4.]] es cuadrada.\n",
      "La matríz no es singular\n",
      "P :\n",
      " [[0. 1.]\n",
      " [1. 0.]] \n",
      " L :\n",
      " [[1.         0.        ]\n",
      " [0.33333333 1.        ]] \n",
      " U :\n",
      " [[3.         4.        ]\n",
      " [0.         0.66666667]] \n",
      "\n",
      "------------------------------------------------------------------------\n",
      "La matriz \n",
      " [[1. 2. 0.]\n",
      " [3. 5. 2.]\n",
      " [0. 2. 1.]] es cuadrada.\n",
      "La matríz no es singular\n",
      "P :\n",
      " [[0. 1. 0.]\n",
      " [0. 0. 1.]\n",
      " [1. 0. 0.]] \n",
      " L :\n",
      " [[1.         0.         0.        ]\n",
      " [0.         1.         0.        ]\n",
      " [0.33333333 0.16666667 1.        ]] \n",
      " U :\n",
      " [[ 3.          5.          2.        ]\n",
      " [ 0.          2.          1.        ]\n",
      " [ 0.          0.         -0.83333333]] \n",
      "\n",
      "------------------------------------------------------------------------\n",
      "La matriz \n",
      " [[4. 4. 4. 5.]\n",
      " [2. 3. 1. 4.]\n",
      " [5. 6. 7. 8.]\n",
      " [5. 4. 3. 2.]] es cuadrada.\n",
      "La matríz no es singular\n",
      "P :\n",
      " [[0. 0. 1. 0.]\n",
      " [0. 0. 0. 1.]\n",
      " [0. 1. 0. 0.]\n",
      " [1. 0. 0. 0.]] \n",
      " L :\n",
      " [[ 1.00000000e+00  0.00000000e+00  0.00000000e+00  0.00000000e+00]\n",
      " [ 1.00000000e+00  1.00000000e+00  0.00000000e+00  0.00000000e+00]\n",
      " [ 4.00000000e-01 -3.00000000e-01  1.00000000e+00  0.00000000e+00]\n",
      " [ 8.00000000e-01  4.00000000e-01 -2.96059473e-16  1.00000000e+00]] \n",
      " U :\n",
      " [[ 5.  6.  7.  8.]\n",
      " [ 0. -2. -4. -6.]\n",
      " [ 0.  0. -3. -1.]\n",
      " [ 0.  0.  0.  1.]] \n",
      "\n"
     ]
    }
   ],
   "source": [
    "# Sea b = [1,2,3] vector columna de Ax = b\n",
    "# nuestras b's se ejemplo:\n",
    "b_1 = [[1],[2]]\n",
    "b_2 = [[2],[16],[-2]]\n",
    "b_3 = [[-23],[10],[2], [0]]\n",
    "\n",
    "# nuestras A's de ejmplo:\n",
    "A_1 = P.T@L@U \n",
    "A_2 = P_2.T@L_2@U_2\n",
    "A_3 = P_3.T@L_3@U_3\n",
    "\n",
    "# soluciones de nuestros sistemas propuestos\n",
    "example_1 = solution_system(A_1, b_1)\n",
    "print('------------------------------------------------------------------------')\n",
    "example_2 = solution_system(A_2, b_2)\n",
    "print('------------------------------------------------------------------------')\n",
    "example_3 = solution_system(A_3, b_3)"
   ]
  },
  {
   "cell_type": "markdown",
   "id": "412c6c3c-3da7-4bbd-82cb-2d31fdfd88e9",
   "metadata": {},
   "source": [
    "Las soluciones que calcula el programa son las siguientes:"
   ]
  },
  {
   "cell_type": "code",
   "execution_count": 16,
   "id": "3e8314fc-c26d-4800-beed-5ac8b02c4e59",
   "metadata": {},
   "outputs": [
    {
     "data": {
      "text/plain": [
       "matrix([[0. ],\n",
       "        [0.5]])"
      ]
     },
     "execution_count": 16,
     "metadata": {},
     "output_type": "execute_result"
    }
   ],
   "source": [
    "example_1"
   ]
  },
  {
   "cell_type": "code",
   "execution_count": 17,
   "id": "930799d8-3c05-46cb-b92b-ad72e22e6f40",
   "metadata": {},
   "outputs": [
    {
     "data": {
      "text/plain": [
       "matrix([[ 7.6],\n",
       "        [-2.8],\n",
       "        [ 3.6]])"
      ]
     },
     "execution_count": 17,
     "metadata": {},
     "output_type": "execute_result"
    }
   ],
   "source": [
    "example_2"
   ]
  },
  {
   "cell_type": "code",
   "execution_count": 18,
   "id": "1f9242c0-59c9-49bc-a79a-1cc6640353a4",
   "metadata": {},
   "outputs": [
    {
     "data": {
      "text/plain": [
       "matrix([[-43.33333333],\n",
       "        [ 62.26666667],\n",
       "        [  5.06666667],\n",
       "        [-23.8       ]])"
      ]
     },
     "execution_count": 18,
     "metadata": {},
     "output_type": "execute_result"
    }
   ],
   "source": [
    "example_3"
   ]
  },
  {
   "cell_type": "markdown",
   "id": "fb251a12-e204-4572-9694-5136eec6ccef",
   "metadata": {},
   "source": [
    "Comprobemos si nuestra solución es correcta partiendo de que $Ax=b$"
   ]
  },
  {
   "cell_type": "code",
   "execution_count": 19,
   "id": "98d557b8-d807-450d-8076-1e17aaecdf65",
   "metadata": {},
   "outputs": [
    {
     "data": {
      "text/plain": [
       "matrix([[1.],\n",
       "        [2.]])"
      ]
     },
     "execution_count": 19,
     "metadata": {},
     "output_type": "execute_result"
    }
   ],
   "source": [
    "A_1@example_1 # Se espera que nos salga [[1],[2]]"
   ]
  },
  {
   "cell_type": "code",
   "execution_count": 20,
   "id": "32606f18-1e1f-4afe-ae30-770605fefb55",
   "metadata": {},
   "outputs": [
    {
     "data": {
      "text/plain": [
       "matrix([[ 2.],\n",
       "        [16.],\n",
       "        [-2.]])"
      ]
     },
     "execution_count": 20,
     "metadata": {},
     "output_type": "execute_result"
    }
   ],
   "source": [
    "A_2@example_2 # Se espera que nos salga [[2],[16],[-2]]"
   ]
  },
  {
   "cell_type": "code",
   "execution_count": 21,
   "id": "bbe63c7c-a64e-4c75-b568-0dcafc116d8f",
   "metadata": {},
   "outputs": [
    {
     "data": {
      "text/plain": [
       "matrix([[-2.30000000e+01],\n",
       "        [ 1.00000000e+01],\n",
       "        [ 2.00000000e+00],\n",
       "        [ 5.68434189e-14]])"
      ]
     },
     "execution_count": 21,
     "metadata": {},
     "output_type": "execute_result"
    }
   ],
   "source": [
    "A_3@example_3 # Se espera que nos salga [[-23],[10],[2], [0]]"
   ]
  },
  {
   "cell_type": "markdown",
   "id": "1d8e5781-fdfa-4503-a9de-1df8af894ac0",
   "metadata": {},
   "source": [
    "- ### Comprobaciones del funcionamiento del programa solucionador para entradas aleatorias de A y b. Una solución exitosa será cuando ||Ax-b||<E con E un número menor a 0.01 que ustedes establezcan."
   ]
  },
  {
   "cell_type": "code",
   "execution_count": 22,
   "id": "2dd0812f-ccb2-4a9e-8bf9-b48ac8c1bdac",
   "metadata": {},
   "outputs": [],
   "source": [
    "def test_solution(A,b):\n",
    "    matrix_norm = solution_system(A,b)\n",
    "    Ax_b = A@matrix_norm - b\n",
    "    return np.linalg.norm(Ax_b)"
   ]
  },
  {
   "cell_type": "markdown",
   "id": "6383f0eb-6f59-480c-95a5-7f81cd30a4bf",
   "metadata": {},
   "source": [
    "Ahora nos queda simular algunas matrices con sus respectivas soluciones"
   ]
  },
  {
   "cell_type": "code",
   "execution_count": 23,
   "id": "62d37b3f-c1c3-4ff7-87c3-48153b2a64ad",
   "metadata": {},
   "outputs": [],
   "source": [
    "def random_matrix():\n",
    "    A_matrix_random = []\n",
    "    b_matrix_random = []\n",
    "    lenght = random.randint(1,10)\n",
    "\n",
    "    for i in range(lenght):\n",
    "        rows_A = []\n",
    "        for j in range(lenght):\n",
    "            n = random.randint(-70,70)\n",
    "            rows_A.append(n)\n",
    "        A_matrix_random.append(rows_A)\n",
    "        b_matrix_random.append([random.randint(-70,70)])\n",
    "        \n",
    "    return A_matrix_random, b_matrix_random"
   ]
  },
  {
   "cell_type": "markdown",
   "id": "b01e4aea-794e-4470-b477-2e9f414afe42",
   "metadata": {},
   "source": [
    "Ahora para finalizar hagamos la comprobación de la norma, para esto haré uso de un ciclo For y modificaré un poco el programa para la obtención de la factorización PLU sólo quitando las \"impresiones\" de si la matríz es o no cuadrada o singular."
   ]
  },
  {
   "cell_type": "code",
   "execution_count": 24,
   "id": "c96529d7-2191-4540-8dcf-7dd12876d8d1",
   "metadata": {},
   "outputs": [],
   "source": [
    "def factorizacion_PLU_mod(A): \n",
    "    # El formato de A es [[a,b], [c,d], [],...]\n",
    "    A_matrix = np.matrix(A)\n",
    "    A_matrix = A_matrix.astype(float)\n",
    "    # ¿La matríz es cuadrada e invertible?\n",
    "    num_rows, num_cols = A_matrix.shape\n",
    "    # Declaramos las matrices P, L y U\n",
    "    P, L, U_matrix = np.identity(num_rows), np.zeros((num_rows,num_cols)), A_matrix.copy()\n",
    "    \n",
    "    # Paso 2, 3, 4 y 5 del algoritmo \n",
    "    count = 0\n",
    "    while count < num_cols - 1: #tenemos que detenernos una columna antes \n",
    "\n",
    "        U_columna = U_matrix[count:,count]\n",
    "        U_columna = np.reshape(U_columna, num_rows-count)\n",
    "        max_value = np.amax(abs(U_columna)) \n",
    "        if max_value == 0: \n",
    "            return f'Tenemos que en la columna {count + 1}, es decir {U_columna} el máximo es cero, entonces es singular y no se encuentra factorización'        \n",
    "        index_y, index_x = np.where(abs(U_matrix[count:,count]) == max_value)\n",
    "        \n",
    "        #cambio de renglones\n",
    "        U_matrix[[index_x[0]+count, index_y[0]+count]] = U_matrix[[index_y[0]+count, index_x[0]+count]]\n",
    "        P[[index_y[0]+count, index_x[0]+count]] = P[[index_x[0]+count, index_y[0]+count]]\n",
    "        L[[index_y[0]+count, index_x[0]+count]] = L[[index_x[0]+count, index_y[0]+count]]\n",
    "\n",
    "        for i in range(count+1, num_rows):\n",
    "            L[i,count] = U_matrix[i,count] / U_matrix[count,count]\n",
    "            U_matrix[i, :] = U_matrix[i, :] - L[i,count]*U_matrix[count,:]\n",
    "\n",
    "        count += 1        \n",
    "#    else:\n",
    "        #print('La matríz no es singular')\n",
    "    \n",
    "    L = L + np.eye(num_cols)\n",
    "#    print(f'P :\\n {P} \\n L :\\n {L} \\n U :\\n {U_matrix} \\n')\n",
    "    return (P,L,U_matrix)\n",
    "\n",
    "\n",
    "def solution_system_mod(A,b): # El parámetro b es parte de la igualdad Ax = b\n",
    "    try:\n",
    "        P, L, U = factorizacion_PLU_mod(A) \n",
    "        b = np.matrix(b)\n",
    "        b = b.astype(float)\n",
    "        return np.linalg.inv(U)@np.linalg.inv(L)@P@b #se espera que el parámetro b se ingrese como [[a,b,...],...]\n",
    "    except: \n",
    "        return 'El sistema no tiene solución'\n",
    "    \n",
    "def test_solution_mod(A,b):\n",
    "    matrix_norm = solution_system_mod(A,b)\n",
    "    Ax_b = A@matrix_norm - b\n",
    "    return np.linalg.norm(Ax_b)\n"
   ]
  },
  {
   "cell_type": "code",
   "execution_count": 25,
   "id": "4229a684-17e2-40b5-8088-8a37b2f47e3a",
   "metadata": {},
   "outputs": [],
   "source": [
    "def test_final(n):\n",
    "    E = 0.009\n",
    "    norma_test = 0\n",
    "\n",
    "    for i in range(n):\n",
    "        try: \n",
    "            A, b = random_matrix()\n",
    "            norma_test = test_solution_mod(A, b)\n",
    "            if norma_test < E:\n",
    "                continue\n",
    "            else: \n",
    "                return f'''Encontramos que\n",
    "                        no se cumple la desigualdad \n",
    "                        en el sistema Ax = b = {A}x = {b}'''\n",
    "        except: \n",
    "            '''Al parecer alguno de estos sistemas no se pudo solucionar, \n",
    "            ya sea por singularidad'''\n",
    "    else:\n",
    "        return f'Nuestro programa funciona bien con {n} iteraciones'"
   ]
  },
  {
   "cell_type": "code",
   "execution_count": 26,
   "id": "d32ac953-300c-4445-aab0-d4468ba8e583",
   "metadata": {},
   "outputs": [
    {
     "data": {
      "text/plain": [
       "'Nuestro programa funciona bien con 10000 iteraciones'"
      ]
     },
     "execution_count": 26,
     "metadata": {},
     "output_type": "execute_result"
    }
   ],
   "source": [
    "n = 10000\n",
    "test_final(n)"
   ]
  },
  {
   "cell_type": "code",
   "execution_count": 27,
   "id": "3b4f5625",
   "metadata": {},
   "outputs": [],
   "source": [
    "lesli = solution_system_mod([[1,4,1],[4,3,1],[2,1,4]], [[0],[6],[-9]])"
   ]
  },
  {
   "cell_type": "code",
   "execution_count": 28,
   "id": "5684a0be",
   "metadata": {},
   "outputs": [
    {
     "data": {
      "text/plain": [
       "matrix([[ 2.10638298],\n",
       "        [ 0.31914894],\n",
       "        [-3.38297872]])"
      ]
     },
     "execution_count": 28,
     "metadata": {},
     "output_type": "execute_result"
    }
   ],
   "source": [
    "lesli"
   ]
  },
  {
   "cell_type": "code",
   "execution_count": 29,
   "id": "944afb60",
   "metadata": {
    "scrolled": true
   },
   "outputs": [
    {
     "data": {
      "text/plain": [
       "matrix([[ 0.],\n",
       "        [ 6.],\n",
       "        [-9.]])"
      ]
     },
     "execution_count": 29,
     "metadata": {},
     "output_type": "execute_result"
    }
   ],
   "source": [
    "np.matrix([[1,4,1],[4,3,1],[2,1,4]])@lesli"
   ]
  },
  {
   "cell_type": "code",
   "execution_count": 30,
   "id": "af83dd0a",
   "metadata": {},
   "outputs": [
    {
     "data": {
      "text/plain": [
       "matrix([[ 36.        ],\n",
       "        [ 17.33333333],\n",
       "        [ 65.66666667],\n",
       "        [-30.66666667],\n",
       "        [-64.        ]])"
      ]
     },
     "execution_count": 30,
     "metadata": {},
     "output_type": "execute_result"
    }
   ],
   "source": [
    "solution_system_mod([[4,4,1,3,3], [4,1,1,3,2], [2,3,1,4,1], [5,2,4,5,5], [3,3,1,1,3]], [[-5],[7], [3], [4], [3]])"
   ]
  }
 ],
 "metadata": {
  "kernelspec": {
   "display_name": "Python 3 (ipykernel)",
   "language": "python",
   "name": "python3"
  },
  "language_info": {
   "codemirror_mode": {
    "name": "ipython",
    "version": 3
   },
   "file_extension": ".py",
   "mimetype": "text/x-python",
   "name": "python",
   "nbconvert_exporter": "python",
   "pygments_lexer": "ipython3",
   "version": "3.8.12"
  }
 },
 "nbformat": 4,
 "nbformat_minor": 5
}
