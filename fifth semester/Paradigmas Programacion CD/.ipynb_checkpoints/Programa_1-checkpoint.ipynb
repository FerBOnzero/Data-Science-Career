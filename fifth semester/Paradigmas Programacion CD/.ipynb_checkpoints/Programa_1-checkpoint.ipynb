{
 "cells": [
  {
   "cell_type": "markdown",
   "id": "bcbe9d35-45f7-4275-8983-fabe900df162",
   "metadata": {},
   "source": [
    "# Programa 1\n",
    "## Integrantes: \n",
    "- Barajas Ruíz Leslie\n",
    "- Benites Onofre Fernando Gabriel"
   ]
  },
  {
   "cell_type": "code",
   "execution_count": 4,
   "id": "a0ddc825-5f55-4319-9a03-dce9ec63d01d",
   "metadata": {},
   "outputs": [],
   "source": [
    "'''\n",
    "Primero definimos nuestra clases de excepción, la cual nos arrojará el error \n",
    "que se espera que capturen dado si la oración ingresada no es correcta, por \n",
    "ejemplo que tenga carácteres especiales o números (* ^ { } [ ] , ...).\n",
    "'''\n",
    "\n",
    "class SpecialCharacter(Exception): \n",
    "    def __init__(self, n, message=\"Estás ingresando una oración con carácteres que no sólo son letras.\"):\n",
    "        self.n = n\n",
    "        self.message = message\n",
    "        super().__init__(self.message)\n",
    "        "
   ]
  },
  {
   "cell_type": "code",
   "execution_count": 2,
   "id": "07dea744-72e6-4667-8c24-3d0a99d24dd7",
   "metadata": {},
   "outputs": [],
   "source": [
    "def Alphabet():\n",
    "    return [chr(i) for i in range(ord('a'),ord('z')+1)]"
   ]
  },
  {
   "cell_type": "code",
   "execution_count": 7,
   "id": "5f6dd7a0-5c6c-42d8-9ed2-5a0503bd50b3",
   "metadata": {},
   "outputs": [],
   "source": [
    "def cripto():\n",
    "    alphabet_UpperCase = [i.upper() for i in Alphabet()]\n",
    "    dict_values = {}\n",
    "    count = 0\n",
    "    \n",
    "    for i in alphabet_UpperCase[:5]:\n",
    "        for j in alphabet_UpperCase[:5]:\n",
    "            if alphabet_UpperCase[count] == 'I':\n",
    "                key = i+j\n",
    "                dict_values[alphabet_UpperCase[count] + alphabet_UpperCase[count+1]] = key\n",
    "                count += 2\n",
    "                continue\n",
    "                \n",
    "            key = i+j\n",
    "            dict_values[alphabet_UpperCase[count]] = key\n",
    "            count += 1\n",
    "    return dict_values"
   ]
  },
  {
   "cell_type": "code",
   "execution_count": 8,
   "id": "5b4256ba-bba8-4846-befa-2348226124d1",
   "metadata": {},
   "outputs": [],
   "source": [
    "def text_cripto(text):\n",
    "    combinaciones = cripto()\n",
    "    text = text.replace(\" \", \"\")\n",
    "    text = text.upper()\n",
    "    text_change = ''\n",
    "    \n",
    "    try:\n",
    "        for i in text:\n",
    "            if i == 'I' or i == 'J':\n",
    "                text_change += combinaciones['IJ']\n",
    "                continue\n",
    "            \n",
    "            text_change += combinaciones[i]\n",
    "    except:\n",
    "        raise SpecialCharacter(text)\n",
    "    return text_change"
   ]
  },
  {
   "cell_type": "code",
   "execution_count": 9,
   "id": "5da1a8cd-e240-4f8a-9906-4182bbaaf2c7",
   "metadata": {},
   "outputs": [
    {
     "data": {
      "text/plain": [
       "'BCCDCAAACBDECCADCD'"
      ]
     },
     "execution_count": 9,
     "metadata": {},
     "output_type": "execute_result"
    }
   ],
   "source": [
    "hello_world = text_cripto('hola mundo')\n",
    "hello_world"
   ]
  },
  {
   "cell_type": "code",
   "execution_count": 10,
   "id": "050a2d2f-28b4-4d2e-8dbf-90d03bdab72c",
   "metadata": {},
   "outputs": [
    {
     "ename": "SpecialCharacter",
     "evalue": "Estás ingresando una oración con carácteres que no sólo son letras.",
     "output_type": "error",
     "traceback": [
      "\u001b[0;31m---------------------------------------------------------------------------\u001b[0m",
      "\u001b[0;31mKeyError\u001b[0m                                  Traceback (most recent call last)",
      "\u001b[0;32m/var/folders/ln/r540h4b11mv526rjsf8_kdy40000gn/T/ipykernel_487/2106402950.py\u001b[0m in \u001b[0;36mtext_cripto\u001b[0;34m(text)\u001b[0m\n\u001b[1;32m     12\u001b[0m \u001b[0;34m\u001b[0m\u001b[0m\n\u001b[0;32m---> 13\u001b[0;31m             \u001b[0mtext_change\u001b[0m \u001b[0;34m+=\u001b[0m \u001b[0mcombinaciones\u001b[0m\u001b[0;34m[\u001b[0m\u001b[0mi\u001b[0m\u001b[0;34m]\u001b[0m\u001b[0;34m\u001b[0m\u001b[0;34m\u001b[0m\u001b[0m\n\u001b[0m\u001b[1;32m     14\u001b[0m     \u001b[0;32mexcept\u001b[0m\u001b[0;34m:\u001b[0m\u001b[0;34m\u001b[0m\u001b[0;34m\u001b[0m\u001b[0m\n",
      "\u001b[0;31mKeyError\u001b[0m: '2'",
      "\nDuring handling of the above exception, another exception occurred:\n",
      "\u001b[0;31mSpecialCharacter\u001b[0m                          Traceback (most recent call last)",
      "\u001b[0;32m/var/folders/ln/r540h4b11mv526rjsf8_kdy40000gn/T/ipykernel_487/3792366593.py\u001b[0m in \u001b[0;36m<module>\u001b[0;34m\u001b[0m\n\u001b[0;32m----> 1\u001b[0;31m \u001b[0mtext_cripto\u001b[0m\u001b[0;34m(\u001b[0m\u001b[0;34m'2 3 hola'\u001b[0m\u001b[0;34m)\u001b[0m\u001b[0;34m\u001b[0m\u001b[0;34m\u001b[0m\u001b[0m\n\u001b[0m",
      "\u001b[0;32m/var/folders/ln/r540h4b11mv526rjsf8_kdy40000gn/T/ipykernel_487/2106402950.py\u001b[0m in \u001b[0;36mtext_cripto\u001b[0;34m(text)\u001b[0m\n\u001b[1;32m     13\u001b[0m             \u001b[0mtext_change\u001b[0m \u001b[0;34m+=\u001b[0m \u001b[0mcombinaciones\u001b[0m\u001b[0;34m[\u001b[0m\u001b[0mi\u001b[0m\u001b[0;34m]\u001b[0m\u001b[0;34m\u001b[0m\u001b[0;34m\u001b[0m\u001b[0m\n\u001b[1;32m     14\u001b[0m     \u001b[0;32mexcept\u001b[0m\u001b[0;34m:\u001b[0m\u001b[0;34m\u001b[0m\u001b[0;34m\u001b[0m\u001b[0m\n\u001b[0;32m---> 15\u001b[0;31m         \u001b[0;32mraise\u001b[0m \u001b[0mSpecialCharacter\u001b[0m\u001b[0;34m(\u001b[0m\u001b[0mtext\u001b[0m\u001b[0;34m)\u001b[0m\u001b[0;34m\u001b[0m\u001b[0;34m\u001b[0m\u001b[0m\n\u001b[0m\u001b[1;32m     16\u001b[0m     \u001b[0;32mreturn\u001b[0m \u001b[0mtext_change\u001b[0m\u001b[0;34m\u001b[0m\u001b[0;34m\u001b[0m\u001b[0m\n",
      "\u001b[0;31mSpecialCharacter\u001b[0m: Estás ingresando una oración con carácteres que no sólo son letras."
     ]
    }
   ],
   "source": [
    "text_cripto('2 3 hola')"
   ]
  },
  {
   "cell_type": "markdown",
   "id": "50b4689f-a775-4816-baad-62f0d78e6139",
   "metadata": {},
   "source": [
    "## Decodificar"
   ]
  },
  {
   "cell_type": "code",
   "execution_count": 11,
   "id": "13019e37-fe67-4712-9172-dea1b35157f6",
   "metadata": {},
   "outputs": [],
   "source": [
    "def decod(cripto):\n",
    "    list_values = []\n",
    "    count = 0\n",
    "    \n",
    "    for i in range(2,len(cripto), 2):\n",
    "        list_values.append(cripto[count:i])\n",
    "        count = i\n",
    "        \n",
    "    list_values.append(cripto[count:])\n",
    "    \n",
    "    return list_values"
   ]
  },
  {
   "cell_type": "code",
   "execution_count": 13,
   "id": "63fb0753-5604-43ce-96c9-9296d0ac2031",
   "metadata": {},
   "outputs": [
    {
     "data": {
      "text/plain": [
       "['BC', 'CD', 'CA', 'AA', 'CB', 'DE', 'CC', 'AD', 'CD']"
      ]
     },
     "execution_count": 13,
     "metadata": {},
     "output_type": "execute_result"
    }
   ],
   "source": [
    "decod_helloWorld = decod(hello_world)\n",
    "decod_helloWorld"
   ]
  },
  {
   "cell_type": "code",
   "execution_count": 15,
   "id": "598d14cb-9d61-4e15-933f-0b99f48c4ff4",
   "metadata": {},
   "outputs": [],
   "source": [
    "def text_decod(decod):\n",
    "    alphabet_keys = ''\n",
    "    \n",
    "    for i in decod:\n",
    "        keys = [k for k, v in cripto().items() if v == i][0]\n",
    "        alphabet_keys += keys\n",
    "    return alphabet_keys"
   ]
  },
  {
   "cell_type": "code",
   "execution_count": 16,
   "id": "8e010cbf-9371-4e6c-880f-32655b322dc8",
   "metadata": {},
   "outputs": [
    {
     "data": {
      "text/plain": [
       "'HOLAMUNDO'"
      ]
     },
     "execution_count": 16,
     "metadata": {},
     "output_type": "execute_result"
    }
   ],
   "source": [
    "text_decod(decod_helloWorld)"
   ]
  },
  {
   "cell_type": "markdown",
   "id": "177e9bd9-d776-4b1c-b109-c0153c94ffdd",
   "metadata": {},
   "source": [
    "## Test de un archivo txt que se creó con palabras con sentido"
   ]
  },
  {
   "cell_type": "code",
   "execution_count": 17,
   "id": "a9941738-feef-4bad-acac-685e5c53c312",
   "metadata": {},
   "outputs": [],
   "source": [
    "# test palabras con sentido\n",
    "\n",
    "def string_sentido():\n",
    "    with open('example.txt') as f:\n",
    "        lines = [line.rstrip() for line in f]\n",
    "    return lines"
   ]
  },
  {
   "cell_type": "code",
   "execution_count": 18,
   "id": "6c881461-01ae-415a-a0de-82dfacd8b17b",
   "metadata": {},
   "outputs": [
    {
     "data": {
      "text/plain": [
       "['Hola mundo',\n",
       " 'Este es un ejemplo',\n",
       " 'Veamos si funciona',\n",
       " 'Funcionaaaaa',\n",
       " 'texto con espacios',\n",
       " 'textito pequeno',\n",
       " 'Lenguajes de Programacion',\n",
       " 'Ciencia de Datos']"
      ]
     },
     "execution_count": 18,
     "metadata": {},
     "output_type": "execute_result"
    }
   ],
   "source": [
    "string_sentido()"
   ]
  },
  {
   "cell_type": "code",
   "execution_count": 19,
   "id": "624068bf-d702-404f-8663-6a29b389359d",
   "metadata": {},
   "outputs": [],
   "source": [
    "def test_sentido():\n",
    "    text_decod_proof = []\n",
    "    for i in range(len(string_sentido())):\n",
    "        string_proof = text_cripto(string_sentido()[i])\n",
    "        decod_proof = decod(string_proof)\n",
    "        text_decod_proof.append(text_decod(decod_proof))\n",
    "    \n",
    "    return text_decod_proof"
   ]
  },
  {
   "cell_type": "code",
   "execution_count": 20,
   "id": "ff5cfc45-3600-44f1-95a2-2ea59cd1b6d2",
   "metadata": {},
   "outputs": [
    {
     "data": {
      "text/plain": [
       "['HOLAMUNDO',\n",
       " 'ESTEESUNEIJEMPLO',\n",
       " 'VEAMOSSIJFUNCIJONA',\n",
       " 'FUNCIJONAAAAA',\n",
       " 'TEXTOCONESPACIJOS',\n",
       " 'TEXTIJTOPEQUENO',\n",
       " 'LENGUAIJESDEPROGRAMACIJON',\n",
       " 'CIJENCIJADEDATOS']"
      ]
     },
     "execution_count": 20,
     "metadata": {},
     "output_type": "execute_result"
    }
   ],
   "source": [
    "test_sentido()"
   ]
  },
  {
   "cell_type": "code",
   "execution_count": 21,
   "id": "85256398-dc1a-42ff-ac95-71c540b3b63d",
   "metadata": {},
   "outputs": [],
   "source": [
    "def ejecution_sentido():\n",
    "    string_sentido_test = string_sentido()\n",
    "    ejecution_proof = []\n",
    "    for i in range(len(string_sentido_test)):\n",
    "        text = string_sentido_test[i]\n",
    "        text = text.replace(\" \", \"\")\n",
    "        text = text.upper().replace('I', 'IJ').replace('J', 'IJ')\n",
    "        text = text.replace('II', 'I').replace('JJ', 'J').replace('IJIJ', 'IJ')\n",
    "        \n",
    "        ejecution_proof.append(text)\n",
    "    return ejecution_proof"
   ]
  },
  {
   "cell_type": "code",
   "execution_count": 22,
   "id": "3a266861-670f-45cd-8721-b28d9e71e644",
   "metadata": {},
   "outputs": [
    {
     "data": {
      "text/plain": [
       "True"
      ]
     },
     "execution_count": 22,
     "metadata": {},
     "output_type": "execute_result"
    }
   ],
   "source": [
    "ejecution_sentido() == test_sentido()"
   ]
  },
  {
   "cell_type": "markdown",
   "id": "e598c11e-999d-4f0f-b13b-4413529657a4",
   "metadata": {},
   "source": [
    "### Pruebas de funcionamiento con creación de strings aleatorias"
   ]
  },
  {
   "cell_type": "code",
   "execution_count": 24,
   "id": "4af6762d-8983-4b68-8d93-0d59c86830bd",
   "metadata": {},
   "outputs": [],
   "source": [
    "import random\n",
    "import string"
   ]
  },
  {
   "cell_type": "code",
   "execution_count": 25,
   "id": "95690064-af7b-43f6-998f-a1b1e4c4b6e3",
   "metadata": {},
   "outputs": [],
   "source": [
    "#Random strings \n",
    "def Random_Strings():\n",
    "    letters = string.ascii_letters\n",
    "    string_random = ''.join(random.choice(letters) for i in range(random.randint(1,100)))\n",
    "    return string_random"
   ]
  },
  {
   "cell_type": "code",
   "execution_count": 32,
   "id": "b58fa4f1-15ad-4aa6-9459-496b2ab79b86",
   "metadata": {},
   "outputs": [],
   "source": [
    "def test_functionality(n):\n",
    "    string_test = ''\n",
    "    for i in range(n):\n",
    "        string_generate = Random_Strings()\n",
    "        string_proof = text_cripto(string_generate)\n",
    "        decod_proof = decod(string_proof)\n",
    "        text_decod_proof = text_decod(decod_proof)\n",
    "        \n",
    "        text = string_generate\n",
    "        text = text.replace(\" \", \"\")\n",
    "        text = text.upper().replace('I', 'IJ').replace('J', 'IJ')\n",
    "        text = text.replace('II', 'I').replace('JJ', 'J')\n",
    "        if text == text_decod_proof:\n",
    "            continue\n",
    "    else:\n",
    "        print(f'Con {n} iteraciones tenemos que nuestro programa funciona bien')\n",
    "        "
   ]
  },
  {
   "cell_type": "code",
   "execution_count": 33,
   "id": "8b4db31f-483f-4b93-9f5d-d6e12ff5d1f3",
   "metadata": {},
   "outputs": [
    {
     "name": "stdout",
     "output_type": "stream",
     "text": [
      "Con 10000 iteraciones tenemos que nuestro programa funciona bien\n"
     ]
    }
   ],
   "source": [
    "test_functionality(10000)"
   ]
  }
 ],
 "metadata": {
  "kernelspec": {
   "display_name": "Python 3 (ipykernel)",
   "language": "python",
   "name": "python3"
  },
  "language_info": {
   "codemirror_mode": {
    "name": "ipython",
    "version": 3
   },
   "file_extension": ".py",
   "mimetype": "text/x-python",
   "name": "python",
   "nbconvert_exporter": "python",
   "pygments_lexer": "ipython3",
   "version": "3.8.12"
  }
 },
 "nbformat": 4,
 "nbformat_minor": 5
}
