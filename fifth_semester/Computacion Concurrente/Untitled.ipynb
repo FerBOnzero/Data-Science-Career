{
 "cells": [
  {
   "cell_type": "code",
   "execution_count": null,
   "id": "db755ec1-8e0e-4041-bac0-c89789aaa59f",
   "metadata": {},
   "outputs": [],
   "source": [
    "INSERT INTO table_name(column1, column2, …)\n",
    "VALUES (value1, value2, …)"
   ]
  },
  {
   "cell_type": "code",
   "execution_count": null,
   "id": "b54cba69-2a5c-419e-aec4-31fefb7c54a5",
   "metadata": {},
   "outputs": [],
   "source": []
  }
 ],
 "metadata": {
  "kernelspec": {
   "display_name": "",
   "name": ""
  },
  "language_info": {
   "name": ""
  }
 },
 "nbformat": 4,
 "nbformat_minor": 5
}
