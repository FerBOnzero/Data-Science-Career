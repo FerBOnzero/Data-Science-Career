{
 "cells": [
  {
   "cell_type": "code",
   "execution_count": 1,
   "id": "97eec091-7189-482a-8a81-7ea6991097f4",
   "metadata": {},
   "outputs": [],
   "source": [
    "import numpy as np\n",
    "import random"
   ]
  },
  {
   "cell_type": "code",
   "execution_count": 2,
   "id": "499d6776-c6ba-457b-8ba0-be837327f135",
   "metadata": {},
   "outputs": [],
   "source": [
    "def square_matrix(num_row, num_col):\n",
    "    if num_row == num_col:\n",
    "        return True\n",
    "    else:\n",
    "        return False"
   ]
  },
  {
   "cell_type": "code",
   "execution_count": 3,
   "id": "e6f7402a-c5ac-47ba-ba6e-0f93067841e8",
   "metadata": {},
   "outputs": [],
   "source": [
    "'''\n",
    "Primero definimos nuestras clases de excepciones, las cuales\n",
    "nos arrojarán los errores que se espera de capturen dado si \n",
    "la matríz ingresada no es cuadrada o invertible.\n",
    "'''\n",
    "\n",
    "class SquareMatrixException(Exception): # clase para matríz A cuadrada\n",
    "    def __init__(self, n, message=\"Estás ingresando una Matríz que no es cuadrada, por lo tanto no hay factorización\"):\n",
    "        self.n = n\n",
    "        self.message = message\n",
    "        super().__init__(self.message)\n",
    "    \n",
    "class InvertMatrixException(Exception): # clase para matríz A inversa\n",
    "    def __init__(self, n, message=\"Estás ingresando una Matríz que no es invertible, por lo tanto no hay factorización\"):\n",
    "        self.n = n\n",
    "        self.message = message\n",
    "        super().__init__(self.message)"
   ]
  },
  {
   "cell_type": "markdown",
   "id": "00b4e522-697e-4e0d-9f72-36b2a648630a",
   "metadata": {},
   "source": [
    "## Jacobi"
   ]
  },
  {
   "cell_type": "code",
   "execution_count": 4,
   "id": "4be59c45-d01f-4971-a763-b3cdd67f9758",
   "metadata": {},
   "outputs": [],
   "source": [
    "'''\n",
    "Función que resuelve un sistema de ecuaciones por método Jacobi, en donde se dan los siguientes parámetros:\n",
    "A = Matríz asociada al sistema\n",
    "b = Matríz columna asociada a la solución del sistema\n",
    "e = Número de tolerancia de convergencia, si no se declara, por default es 0.00009\n",
    "n = Número de iteraciones en el algoritmo, si no se declara, por default es 1000\n",
    "\n",
    "El formato de las Matríces introducidas son [[a1,...,an],...], ya que dentro de la función se espera tranformar a \n",
    "np.matrix\n",
    "'''\n",
    "\n",
    "def Jacobi(A, b, e = 0.00009, n = 1000):\n",
    "    upper_limit = 10000000\n",
    "    A = np.matrix(A)\n",
    "    A = A.astype(float)\n",
    "    b = np.matrix(b)\n",
    "    b = b.astype(float)\n",
    "    x_length, y_length = A.shape   \n",
    "    \n",
    "    if x_length != y_length:\n",
    "        raise SquareMatrixException(A)\n",
    "        \n",
    "    if np.linalg.det(A) == 0:\n",
    "        raise InvertMatrixException(A)\n",
    "        \n",
    "    # Declaramos las matrices D y E:    \n",
    "    D = np.zeros((x_length,y_length))\n",
    "    D_inverse = np.zeros((x_length,y_length))\n",
    "    for i in range(x_length):\n",
    "        D[i,i] += A[i,i]\n",
    "    \n",
    "    D_inverse = np.linalg.inv(D)    \n",
    "    E = A - D\n",
    "    x = np.zeros((x_length,1), dtype=float)\n",
    "\n",
    "    count = 0\n",
    "    \n",
    "    while count <= n:\n",
    "        try:\n",
    "            x_k = x.copy()\n",
    "            x = D_inverse @ b - D_inverse@E@x\n",
    "            difference = x - x_k\n",
    "            norma = np.linalg.norm(difference)\n",
    "\n",
    "        # Comprobación de que la distancia sea menor a e\n",
    "            if norma < e:\n",
    "                return x\n",
    "            if norma > upper_limit:\n",
    "                return 'No converge la matríz'\n",
    "            count += 1\n",
    "        except Warning:\n",
    "            return 'No converge la matríz'\n",
    "    else:\n",
    "        return x"
   ]
  },
  {
   "cell_type": "markdown",
   "id": "797beb58-b17e-4c8c-9a82-6cc3fb66c798",
   "metadata": {},
   "source": [
    "### Test de eficacia del algoritmo"
   ]
  },
  {
   "cell_type": "code",
   "execution_count": 5,
   "id": "47070b4a-f677-4731-ae1e-85651305b6e4",
   "metadata": {},
   "outputs": [],
   "source": [
    "def test_solution(A,b):\n",
    "    matrix_norm = Jacobi(A,b)\n",
    "    Ax_b = A@matrix_norm - b\n",
    "    return np.linalg.norm(Ax_b)"
   ]
  },
  {
   "cell_type": "code",
   "execution_count": 6,
   "id": "62d37b3f-c1c3-4ff7-87c3-48153b2a64ad",
   "metadata": {},
   "outputs": [],
   "source": [
    "def random_matrix():\n",
    "    A_matrix_random = []\n",
    "    b_matrix_random = []\n",
    "    lenght = random.randint(1,10)\n",
    "\n",
    "    for i in range(lenght):\n",
    "        rows_A = []\n",
    "        for j in range(lenght):\n",
    "            n = random.randint(-70,70)\n",
    "            rows_A.append(n)\n",
    "        A_matrix_random.append(rows_A)\n",
    "        b_matrix_random.append([random.randint(-70,70)])\n",
    "        \n",
    "    return A_matrix_random, b_matrix_random"
   ]
  },
  {
   "cell_type": "code",
   "execution_count": 7,
   "id": "22393c4b-fa22-40e7-900d-72dc9cd9876b",
   "metadata": {},
   "outputs": [],
   "source": [
    "def test_final(n):\n",
    "    E = 0.009\n",
    "    exitos = 0\n",
    "    for i in range(n):\n",
    "        try: \n",
    "            A, b = random_matrix()\n",
    "            norma_test = test_solution(A, b)\n",
    "            if norma_test < E:\n",
    "#                print(f'norma entre la solución de Jacobi y solución real = {norma_test} en la iteración {i}')\n",
    "#                print(f'Solución Jacobi = {Jacobi(A,b)}, Ax = {A@Jacobi(A,b)} aprox b = {b}')\n",
    "                exitos += 1\n",
    "                continue\n",
    "        except: \n",
    "            '''Al parecer alguno de estos sistemas no se pudo solucionar, \n",
    "            ya sea por singularidad'''\n",
    "    else:\n",
    "        return f'Nuestro programa funciona bien con {n} iteraciones y un total de {exitos} éxitos.'"
   ]
  },
  {
   "cell_type": "code",
   "execution_count": 8,
   "id": "615dc8e8-5dde-486e-ab3d-476cfe9175ce",
   "metadata": {},
   "outputs": [
    {
     "data": {
      "text/plain": [
       "'Nuestro programa funciona bien con 1000 iteraciones y un total de 174 éxitos.'"
      ]
     },
     "execution_count": 8,
     "metadata": {},
     "output_type": "execute_result"
    }
   ],
   "source": [
    "test_final(1000)"
   ]
  },
  {
   "cell_type": "markdown",
   "id": "444aaf16-82b5-4dc0-a922-54d02acd4d10",
   "metadata": {},
   "source": [
    "Como lo pudimos ver anteriormente, este algoritmo no simepre funciona, tiene sus ventajas como el ser iterativo, sin embargo podemos decir que no es el más certero a la hora de dar soluciones, ya que en algunos casos no las puede dar. De hecho si repetimos los test, aproximadamente de n iteraciones, tenemos que acerta en uno de diez, es decir el $\\frac{n}{10}$ aprox de veces nos da una solución."
   ]
  },
  {
   "cell_type": "code",
   "execution_count": 9,
   "id": "0067c101-d292-4882-b3f1-ca9a8c283d0f",
   "metadata": {},
   "outputs": [
    {
     "name": "stdout",
     "output_type": "stream",
     "text": [
      "Nuestro programa funciona bien con 10 iteraciones y un total de 4 éxitos.\n",
      "Nuestro programa funciona bien con 1010 iteraciones y un total de 173 éxitos.\n",
      "Nuestro programa funciona bien con 2010 iteraciones y un total de 341 éxitos.\n",
      "Nuestro programa funciona bien con 3010 iteraciones y un total de 488 éxitos.\n",
      "Nuestro programa funciona bien con 4010 iteraciones y un total de 660 éxitos.\n",
      "Nuestro programa funciona bien con 5010 iteraciones y un total de 826 éxitos.\n",
      "Nuestro programa funciona bien con 6010 iteraciones y un total de 1016 éxitos.\n",
      "Nuestro programa funciona bien con 7010 iteraciones y un total de 1137 éxitos.\n",
      "Nuestro programa funciona bien con 8010 iteraciones y un total de 1337 éxitos.\n",
      "Nuestro programa funciona bien con 9010 iteraciones y un total de 1480 éxitos.\n"
     ]
    }
   ],
   "source": [
    "for i in range(10,10000,1000):\n",
    "    print(test_final(i))"
   ]
  },
  {
   "cell_type": "markdown",
   "id": "9de6d06d-6a2b-4a97-a907-00c4a36d8efe",
   "metadata": {},
   "source": [
    "## Gauss - Seidel"
   ]
  },
  {
   "cell_type": "markdown",
   "id": "9d8bfb4a-5732-4a9d-94c5-657094dc8649",
   "metadata": {},
   "source": [
    "Recordemos que para \"garantizar\" convergencia en este método debe cumplirse lo siguiente:\n",
    "\n",
    "Sea $A$ una matríz, entonces decimos que hay convergencia en el método sí $$|A_{ii}| \\geq \\sum_{j=1}^n |A_{ij}| \\text{ para } i\\neq j$$ De esta forma hagamos la clase de excepción"
   ]
  },
  {
   "cell_type": "code",
   "execution_count": 10,
   "id": "ecfc5f1d-5447-4a50-9936-5b627d599914",
   "metadata": {},
   "outputs": [],
   "source": [
    "'''\n",
    "Definimos nuestras clases de excepciones, las cuales nos arrojarán los errores que se espera de capturen dado si \n",
    "la matríz ingresada no converge.\n",
    "'''\n",
    "\n",
    "class ConvergenceException(Exception): # clase para matríz A cuadrada\n",
    "    def __init__(self, n, message=\"Estás ingresando una Matríz que no converge, por lo tanto no sirve el método aquí.\"):\n",
    "        self.n = n\n",
    "        self.message = message\n",
    "        super().__init__(self.message)"
   ]
  },
  {
   "cell_type": "code",
   "execution_count": 11,
   "id": "f5288b58-8933-469d-86e6-222b1ce67565",
   "metadata": {},
   "outputs": [],
   "source": [
    "'''\n",
    "Función que resuelve un sistema de ecuaciones por método Gauss-Seidel, en donde se dan los siguientes parámetros:\n",
    "A = Matríz asociada al sistema\n",
    "b = Matríz columna asociada a la solución del sistema\n",
    "e = Número de tolerancia de convergencia, si no se declara, por default es 0.00009\n",
    "n = Número de iteraciones en el algoritmo, si no se declara, por default es 1000\n",
    "\n",
    "El formato de las Matríces introducidas son [[a1,...,an],...], ya que dentro de la función se espera tranformar a \n",
    "np.matrix\n",
    "'''\n",
    "\n",
    "def GaussSeidel(A, b, e = 0.00009, n = 1000):\n",
    "    upper_limit = 1000000 # Esto para manejar convergencia, así nos \"aseguramos\" que no van a diverger a un número muy grande\n",
    "    A = np.matrix(A)\n",
    "    A = A.astype(float)\n",
    "    b = np.matrix(b)\n",
    "    b = b.astype(float)\n",
    "    x_length, y_length = A.shape   \n",
    "    \n",
    "    if x_length != y_length:\n",
    "        raise SquareMatrixException(A)\n",
    "        \n",
    "    if np.linalg.det(A) == 0:\n",
    "        raise InvertMatrixException(A)\n",
    "        \n",
    "    # Declaramos las matrices D y E:    \n",
    "    D = np.zeros((x_length,y_length))\n",
    "    D_inverse = np.zeros((x_length,y_length))\n",
    "    for i in range(x_length):\n",
    "        D[i,i] += A[i,i]\n",
    "    \n",
    "    D_inverse = np.linalg.inv(D)    \n",
    "    E = A - D\n",
    "    x = np.zeros((x_length,1), dtype=float)\n",
    "    \n",
    "    for i in range(x_length):\n",
    "        if abs(D[i,i]) < np.sum(E[i][:]):\n",
    "            raise ConvergenceException(A)\n",
    "        else:\n",
    "            continue\n",
    "\n",
    "    count = 0\n",
    "    \n",
    "    while count <= n:\n",
    "        try:\n",
    "            if count == 0:\n",
    "                x_k = x.copy()\n",
    "                x = D_inverse @ b - D_inverse@E@x\n",
    "                difference = x - x_k\n",
    "                norma = np.linalg.norm(difference)\n",
    "            else:\n",
    "                x_copy = x.copy()\n",
    "                for i in range(x_length):\n",
    "                    xk_copy = D_inverse @ b - D_inverse@E@x_copy\n",
    "                    x[i,0] = xk_copy[i,0]\n",
    "                    if norma > upper_limit:\n",
    "                        return 'No converge la matríz'\n",
    "            if norma < e:\n",
    "                    return x\n",
    "            count += 1    \n",
    "            \n",
    "        except Warning:\n",
    "            return 'No converge la matríz Warning'\n",
    "\n",
    "    else:\n",
    "        return x"
   ]
  },
  {
   "cell_type": "code",
   "execution_count": 12,
   "id": "bcf634b0-6501-4253-a981-229b3675996a",
   "metadata": {},
   "outputs": [],
   "source": [
    "def test_solutionGauss(A,b):\n",
    "    matrix_norm = GaussSeidel(A,b)\n",
    "    Ax_b = A@matrix_norm - b\n",
    "    return np.linalg.norm(Ax_b)"
   ]
  },
  {
   "cell_type": "code",
   "execution_count": 13,
   "id": "00ff54d9-f768-411c-83bd-431b74ca3cb5",
   "metadata": {},
   "outputs": [],
   "source": [
    "def test_finalGauss(n):\n",
    "    E = 0.009\n",
    "    exitos = 0\n",
    "    for i in range(n):\n",
    "        try: \n",
    "            A, b = random_matrix()\n",
    "            norma_test = test_solutionGauss(A, b)\n",
    "            if norma_test < E:\n",
    "                exitos += 1\n",
    "                continue\n",
    "        except: \n",
    "            '''Al parecer alguno de estos sistemas no se pudo solucionar, \n",
    "            ya sea por singularidad'''\n",
    "    else:\n",
    "        return f'Nuestro programa funciona bien con {n} iteraciones y un total de {exitos} éxitos.'"
   ]
  },
  {
   "cell_type": "code",
   "execution_count": 14,
   "id": "cde1d691-7beb-41c5-a202-8a04192a0630",
   "metadata": {},
   "outputs": [
    {
     "name": "stderr",
     "output_type": "stream",
     "text": [
      "/var/folders/ln/r540h4b11mv526rjsf8_kdy40000gn/T/ipykernel_5383/829820542.py:54: RuntimeWarning: overflow encountered in matmul\n",
      "  xk_copy = D_inverse @ b - D_inverse@E@x_copy\n",
      "/var/folders/ln/r540h4b11mv526rjsf8_kdy40000gn/T/ipykernel_5383/829820542.py:54: RuntimeWarning: invalid value encountered in matmul\n",
      "  xk_copy = D_inverse @ b - D_inverse@E@x_copy\n",
      "/var/folders/ln/r540h4b11mv526rjsf8_kdy40000gn/T/ipykernel_5383/2454541577.py:3: RuntimeWarning: overflow encountered in matmul\n",
      "  Ax_b = A@matrix_norm - b\n",
      "/var/folders/ln/r540h4b11mv526rjsf8_kdy40000gn/T/ipykernel_5383/2454541577.py:3: RuntimeWarning: invalid value encountered in matmul\n",
      "  Ax_b = A@matrix_norm - b\n"
     ]
    },
    {
     "data": {
      "text/plain": [
       "'Nuestro programa funciona bien con 100 iteraciones y un total de 10 éxitos.'"
      ]
     },
     "execution_count": 14,
     "metadata": {},
     "output_type": "execute_result"
    }
   ],
   "source": [
    "test_finalGauss(100)"
   ]
  },
  {
   "cell_type": "markdown",
   "id": "861c1838-acc5-44a5-91e3-dd0b5aee5422",
   "metadata": {},
   "source": [
    "Como lo pudimos ver anteriormente, este algoritmo no simepre funciona, tiene sus ventajas como el ser iterativo, sin embargo podemos decir que no es el más certero a la hora de dar soluciones, ya que en algunos casos no las puede dar. De hecho si repetimos los test, aproximadamente de n iteraciones, tenemos que acerta en uno de diez, es decir el $\\frac{n}{10}$ aprox de veces nos da una solución."
   ]
  },
  {
   "cell_type": "code",
   "execution_count": 15,
   "id": "991cf94c-761a-4f0b-8be3-1fa0093e7dfb",
   "metadata": {},
   "outputs": [
    {
     "name": "stderr",
     "output_type": "stream",
     "text": [
      "/var/folders/ln/r540h4b11mv526rjsf8_kdy40000gn/T/ipykernel_5383/829820542.py:54: RuntimeWarning: overflow encountered in matmul\n",
      "  xk_copy = D_inverse @ b - D_inverse@E@x_copy\n",
      "/var/folders/ln/r540h4b11mv526rjsf8_kdy40000gn/T/ipykernel_5383/829820542.py:54: RuntimeWarning: invalid value encountered in matmul\n",
      "  xk_copy = D_inverse @ b - D_inverse@E@x_copy\n"
     ]
    },
    {
     "name": "stdout",
     "output_type": "stream",
     "text": [
      "Nuestro programa funciona bien con 10 iteraciones y un total de 0 éxitos.\n",
      "Nuestro programa funciona bien con 1010 iteraciones y un total de 140 éxitos.\n",
      "Nuestro programa funciona bien con 2010 iteraciones y un total de 291 éxitos.\n"
     ]
    }
   ],
   "source": [
    "for i in range(10,3000,1000):\n",
    "    print(test_finalGauss(i))"
   ]
  }
 ],
 "metadata": {
  "kernelspec": {
   "display_name": "Python 3 (ipykernel)",
   "language": "python",
   "name": "python3"
  },
  "language_info": {
   "codemirror_mode": {
    "name": "ipython",
    "version": 3
   },
   "file_extension": ".py",
   "mimetype": "text/x-python",
   "name": "python",
   "nbconvert_exporter": "python",
   "pygments_lexer": "ipython3",
   "version": "3.8.12"
  }
 },
 "nbformat": 4,
 "nbformat_minor": 5
}
