{
 "cells": [
  {
   "cell_type": "markdown",
   "id": "b810d2f7-0584-4093-b6b4-8cf602cbda7e",
   "metadata": {},
   "source": [
    "# Factorización de Cholesky\n",
    "\n",
    "#### Nombre: Benites Onofre Fernando Gabriel"
   ]
  },
  {
   "cell_type": "code",
   "execution_count": 93,
   "id": "a3d794bd-05d4-416c-8bf2-2e95f9f72cbc",
   "metadata": {},
   "outputs": [],
   "source": [
    "import numpy as np\n",
    "import math \n",
    "import random"
   ]
  },
  {
   "cell_type": "markdown",
   "id": "87f6e733-a841-40d5-bef8-94c551b9d2ec",
   "metadata": {
    "tags": []
   },
   "source": [
    "### - Función que encuentre la factorización de Cholesky."
   ]
  },
  {
   "cell_type": "code",
   "execution_count": 35,
   "id": "6f5288f5-fd88-47f0-8180-ada7eb2af535",
   "metadata": {},
   "outputs": [],
   "source": [
    "'''\n",
    "Primero definimos nuestras clases de excepciones, las cuales\n",
    "nos arrojarán los errores que se espera de capturen dado si \n",
    "la matríz ingresada no es real o positiva\n",
    "'''\n",
    "\n",
    "class PositiveMatrixCh(Exception): # clase para matríz A>0\n",
    "    def __init__(self, n, message=\"Estás ingresando una Matríz que no es definida positiva, por lo tanto no hay factorización\"):\n",
    "        self.n = n\n",
    "        self.message = message\n",
    "        super().__init__(self.message)\n",
    "        \n",
    "class RealMatrixCh(Exception): # clase para matríz real A\n",
    "    def __init__(self, n, message='Estás ingresando una Matríz que no es real, por lo tanto no hay factorización'):\n",
    "        self.n = n\n",
    "        self.message = message\n",
    "        super().__init__(self.message)\n",
    "        \n",
    "class SymmetricMatrixCh(Exception):\n",
    "    def __init__(self, n, message='Estás ingresando una Matríz que no es simétrica, por lo tanto no hay factorización'):\n",
    "        self.n = n\n",
    "        self.message = message\n",
    "        super().__init__(self.message)"
   ]
  },
  {
   "cell_type": "code",
   "execution_count": 66,
   "id": "e5e9913e-7b45-44cb-b93e-38bf5f8fd4f7",
   "metadata": {},
   "outputs": [],
   "source": [
    "'''\n",
    "Se espera que el formato de parámetro de A es \n",
    "[[a1,b1,...],...,[an,...,bn]] ya que se planea aplicarle \n",
    "la función np.matrix(A)\n",
    "'''\n",
    "\n",
    "def Cholesky(A):\n",
    "    A_matrix = np.matrix(A) \n",
    "    x, y = A_matrix.shape\n",
    "        \n",
    "    if x == y:\n",
    "        value, vector = np.linalg.eig(A_matrix)        \n",
    "        if not np.all(value> 0) and np.all(A_matrix == A_matrix.T):\n",
    "            raise PositiveMatrixCh(A_matrix)\n",
    "\n",
    "    if not np.isreal(A_matrix).all():\n",
    "        raise RealMatrixCh(A_matrix)\n",
    "    \n",
    "    if not np.all(A_matrix == A_matrix.T):\n",
    "        raise SymmetricMatrixCh(A_matrix)\n",
    "\n",
    "    L = np.zeros((x,y))\n",
    "    \n",
    "    # Diagonal\n",
    "    for i in range(x):\n",
    "        for k in range(i+1):\n",
    "            sum_lk = sum(L[i][j] * L[k][j] for j in range(k))\n",
    "            \n",
    "            if (i == k): \n",
    "                L[i][k] = math.sqrt(A[i][i] - sum_lk)\n",
    "            else:\n",
    "                L[i][k] = (1.0 / L[k][k] * (A[i][k] - sum_lk))\n",
    "    return L"
   ]
  },
  {
   "cell_type": "markdown",
   "id": "680b381c-1c4a-49ff-b5d6-c53d2d201add",
   "metadata": {},
   "source": [
    "Ahora capturemos las excepciones y mostremos una matríz que esté bien."
   ]
  },
  {
   "cell_type": "code",
   "execution_count": 42,
   "id": "dc4deb83-9af9-43af-8e2e-4a9109f90b4d",
   "metadata": {},
   "outputs": [
    {
     "ename": "SymmetricMatrixCh",
     "evalue": "Estás ingresando una Matríz que no es simétrica, por lo tanto no hay factorización",
     "output_type": "error",
     "traceback": [
      "\u001b[0;31m---------------------------------------------------------------------------\u001b[0m",
      "\u001b[0;31mSymmetricMatrixCh\u001b[0m                         Traceback (most recent call last)",
      "\u001b[0;32m/var/folders/ln/r540h4b11mv526rjsf8_kdy40000gn/T/ipykernel_732/3806470730.py\u001b[0m in \u001b[0;36m<module>\u001b[0;34m\u001b[0m\n\u001b[0;32m----> 1\u001b[0;31m \u001b[0mCholesky\u001b[0m\u001b[0;34m(\u001b[0m\u001b[0;34m[\u001b[0m\u001b[0;34m[\u001b[0m\u001b[0;34m-\u001b[0m\u001b[0;36m1\u001b[0m\u001b[0;34m,\u001b[0m\u001b[0;36m1\u001b[0m\u001b[0;34m]\u001b[0m\u001b[0;34m,\u001b[0m\u001b[0;34m[\u001b[0m\u001b[0;36m2\u001b[0m\u001b[0;34m,\u001b[0m\u001b[0;36m1\u001b[0m\u001b[0;34m]\u001b[0m\u001b[0;34m]\u001b[0m\u001b[0;34m)\u001b[0m\u001b[0;34m\u001b[0m\u001b[0;34m\u001b[0m\u001b[0m\n\u001b[0m",
      "\u001b[0;32m/var/folders/ln/r540h4b11mv526rjsf8_kdy40000gn/T/ipykernel_732/3563475919.py\u001b[0m in \u001b[0;36mCholesky\u001b[0;34m(A)\u001b[0m\n\u001b[1;32m     16\u001b[0m \u001b[0;34m\u001b[0m\u001b[0m\n\u001b[1;32m     17\u001b[0m     \u001b[0;32mif\u001b[0m \u001b[0;32mnot\u001b[0m \u001b[0mnp\u001b[0m\u001b[0;34m.\u001b[0m\u001b[0mall\u001b[0m\u001b[0;34m(\u001b[0m\u001b[0mA_matrix\u001b[0m \u001b[0;34m==\u001b[0m \u001b[0mA_matrix\u001b[0m\u001b[0;34m.\u001b[0m\u001b[0mT\u001b[0m\u001b[0;34m)\u001b[0m\u001b[0;34m:\u001b[0m\u001b[0;34m\u001b[0m\u001b[0;34m\u001b[0m\u001b[0m\n\u001b[0;32m---> 18\u001b[0;31m         \u001b[0;32mraise\u001b[0m \u001b[0mSymmetricMatrixCh\u001b[0m\u001b[0;34m(\u001b[0m\u001b[0mA_matrix\u001b[0m\u001b[0;34m)\u001b[0m\u001b[0;34m\u001b[0m\u001b[0;34m\u001b[0m\u001b[0m\n\u001b[0m\u001b[1;32m     19\u001b[0m \u001b[0;34m\u001b[0m\u001b[0m\n\u001b[1;32m     20\u001b[0m     \u001b[0mL\u001b[0m \u001b[0;34m=\u001b[0m \u001b[0mnp\u001b[0m\u001b[0;34m.\u001b[0m\u001b[0mzeros\u001b[0m\u001b[0;34m(\u001b[0m\u001b[0;34m(\u001b[0m\u001b[0mx\u001b[0m\u001b[0;34m,\u001b[0m\u001b[0my\u001b[0m\u001b[0;34m)\u001b[0m\u001b[0;34m)\u001b[0m\u001b[0;34m\u001b[0m\u001b[0;34m\u001b[0m\u001b[0m\n",
      "\u001b[0;31mSymmetricMatrixCh\u001b[0m: Estás ingresando una Matríz que no es simétrica, por lo tanto no hay factorización"
     ]
    }
   ],
   "source": [
    "Cholesky([[-1,1],[2,1]])"
   ]
  },
  {
   "cell_type": "code",
   "execution_count": 43,
   "id": "6b2f17c2-b855-42c7-b18c-556ac6f3e77b",
   "metadata": {},
   "outputs": [
    {
     "ename": "RealMatrixCh",
     "evalue": "Estás ingresando una Matríz que no es real, por lo tanto no hay factorización",
     "output_type": "error",
     "traceback": [
      "\u001b[0;31m---------------------------------------------------------------------------\u001b[0m",
      "\u001b[0;31mRealMatrixCh\u001b[0m                              Traceback (most recent call last)",
      "\u001b[0;32m/var/folders/ln/r540h4b11mv526rjsf8_kdy40000gn/T/ipykernel_732/2166487284.py\u001b[0m in \u001b[0;36m<module>\u001b[0;34m\u001b[0m\n\u001b[0;32m----> 1\u001b[0;31m \u001b[0mCholesky\u001b[0m\u001b[0;34m(\u001b[0m\u001b[0;34m[\u001b[0m\u001b[0;34m[\u001b[0m\u001b[0;36m1\u001b[0m\u001b[0;34m,\u001b[0m\u001b[0;36m1j\u001b[0m\u001b[0;34m]\u001b[0m\u001b[0;34m,\u001b[0m\u001b[0;34m[\u001b[0m\u001b[0;36m2\u001b[0m\u001b[0;34m,\u001b[0m\u001b[0;36m1\u001b[0m\u001b[0;34m]\u001b[0m\u001b[0;34m]\u001b[0m\u001b[0;34m)\u001b[0m\u001b[0;34m\u001b[0m\u001b[0;34m\u001b[0m\u001b[0m\n\u001b[0m",
      "\u001b[0;32m/var/folders/ln/r540h4b11mv526rjsf8_kdy40000gn/T/ipykernel_732/3563475919.py\u001b[0m in \u001b[0;36mCholesky\u001b[0;34m(A)\u001b[0m\n\u001b[1;32m     13\u001b[0m \u001b[0;34m\u001b[0m\u001b[0m\n\u001b[1;32m     14\u001b[0m     \u001b[0;32mif\u001b[0m \u001b[0;32mnot\u001b[0m \u001b[0mnp\u001b[0m\u001b[0;34m.\u001b[0m\u001b[0misreal\u001b[0m\u001b[0;34m(\u001b[0m\u001b[0mA_matrix\u001b[0m\u001b[0;34m)\u001b[0m\u001b[0;34m.\u001b[0m\u001b[0mall\u001b[0m\u001b[0;34m(\u001b[0m\u001b[0;34m)\u001b[0m\u001b[0;34m:\u001b[0m\u001b[0;34m\u001b[0m\u001b[0;34m\u001b[0m\u001b[0m\n\u001b[0;32m---> 15\u001b[0;31m         \u001b[0;32mraise\u001b[0m \u001b[0mRealMatrixCh\u001b[0m\u001b[0;34m(\u001b[0m\u001b[0mA_matrix\u001b[0m\u001b[0;34m)\u001b[0m\u001b[0;34m\u001b[0m\u001b[0;34m\u001b[0m\u001b[0m\n\u001b[0m\u001b[1;32m     16\u001b[0m \u001b[0;34m\u001b[0m\u001b[0m\n\u001b[1;32m     17\u001b[0m     \u001b[0;32mif\u001b[0m \u001b[0;32mnot\u001b[0m \u001b[0mnp\u001b[0m\u001b[0;34m.\u001b[0m\u001b[0mall\u001b[0m\u001b[0;34m(\u001b[0m\u001b[0mA_matrix\u001b[0m \u001b[0;34m==\u001b[0m \u001b[0mA_matrix\u001b[0m\u001b[0;34m.\u001b[0m\u001b[0mT\u001b[0m\u001b[0;34m)\u001b[0m\u001b[0;34m:\u001b[0m\u001b[0;34m\u001b[0m\u001b[0;34m\u001b[0m\u001b[0m\n",
      "\u001b[0;31mRealMatrixCh\u001b[0m: Estás ingresando una Matríz que no es real, por lo tanto no hay factorización"
     ]
    }
   ],
   "source": [
    "Cholesky([[1,1j],[2,1]])"
   ]
  },
  {
   "cell_type": "code",
   "execution_count": 50,
   "id": "5e0822fd-8c99-4fb6-a924-3abc9e47ef91",
   "metadata": {},
   "outputs": [
    {
     "name": "stderr",
     "output_type": "stream",
     "text": [
      "/var/folders/ln/r540h4b11mv526rjsf8_kdy40000gn/T/ipykernel_732/380867406.py:18: DeprecationWarning: elementwise comparison failed; this will raise an error in the future.\n",
      "  if not np.all(A_matrix == A_matrix.T):\n"
     ]
    },
    {
     "ename": "SymmetricMatrixCh",
     "evalue": "Estás ingresando una Matríz que no es simétrica, por lo tanto no hay factorización",
     "output_type": "error",
     "traceback": [
      "\u001b[0;31m---------------------------------------------------------------------------\u001b[0m",
      "\u001b[0;31mSymmetricMatrixCh\u001b[0m                         Traceback (most recent call last)",
      "\u001b[0;32m/var/folders/ln/r540h4b11mv526rjsf8_kdy40000gn/T/ipykernel_732/3255867534.py\u001b[0m in \u001b[0;36m<module>\u001b[0;34m\u001b[0m\n\u001b[0;32m----> 1\u001b[0;31m \u001b[0mCholesky\u001b[0m\u001b[0;34m(\u001b[0m\u001b[0;34m[\u001b[0m\u001b[0;34m[\u001b[0m\u001b[0;36m1\u001b[0m\u001b[0;34m,\u001b[0m\u001b[0;36m2\u001b[0m\u001b[0;34m,\u001b[0m\u001b[0;36m3\u001b[0m\u001b[0;34m]\u001b[0m\u001b[0;34m,\u001b[0m\u001b[0;34m[\u001b[0m\u001b[0;36m4\u001b[0m\u001b[0;34m,\u001b[0m\u001b[0;36m5\u001b[0m\u001b[0;34m,\u001b[0m\u001b[0;36m6\u001b[0m\u001b[0;34m]\u001b[0m\u001b[0;34m]\u001b[0m\u001b[0;34m)\u001b[0m\u001b[0;34m\u001b[0m\u001b[0;34m\u001b[0m\u001b[0m\n\u001b[0m",
      "\u001b[0;32m/var/folders/ln/r540h4b11mv526rjsf8_kdy40000gn/T/ipykernel_732/380867406.py\u001b[0m in \u001b[0;36mCholesky\u001b[0;34m(A)\u001b[0m\n\u001b[1;32m     17\u001b[0m \u001b[0;34m\u001b[0m\u001b[0m\n\u001b[1;32m     18\u001b[0m     \u001b[0;32mif\u001b[0m \u001b[0;32mnot\u001b[0m \u001b[0mnp\u001b[0m\u001b[0;34m.\u001b[0m\u001b[0mall\u001b[0m\u001b[0;34m(\u001b[0m\u001b[0mA_matrix\u001b[0m \u001b[0;34m==\u001b[0m \u001b[0mA_matrix\u001b[0m\u001b[0;34m.\u001b[0m\u001b[0mT\u001b[0m\u001b[0;34m)\u001b[0m\u001b[0;34m:\u001b[0m\u001b[0;34m\u001b[0m\u001b[0;34m\u001b[0m\u001b[0m\n\u001b[0;32m---> 19\u001b[0;31m         \u001b[0;32mraise\u001b[0m \u001b[0mSymmetricMatrixCh\u001b[0m\u001b[0;34m(\u001b[0m\u001b[0mA_matrix\u001b[0m\u001b[0;34m)\u001b[0m\u001b[0;34m\u001b[0m\u001b[0;34m\u001b[0m\u001b[0m\n\u001b[0m\u001b[1;32m     20\u001b[0m \u001b[0;34m\u001b[0m\u001b[0m\n\u001b[1;32m     21\u001b[0m     \u001b[0mL\u001b[0m \u001b[0;34m=\u001b[0m \u001b[0mnp\u001b[0m\u001b[0;34m.\u001b[0m\u001b[0mzeros\u001b[0m\u001b[0;34m(\u001b[0m\u001b[0;34m(\u001b[0m\u001b[0mx\u001b[0m\u001b[0;34m,\u001b[0m\u001b[0my\u001b[0m\u001b[0;34m)\u001b[0m\u001b[0;34m)\u001b[0m\u001b[0;34m\u001b[0m\u001b[0;34m\u001b[0m\u001b[0m\n",
      "\u001b[0;31mSymmetricMatrixCh\u001b[0m: Estás ingresando una Matríz que no es simétrica, por lo tanto no hay factorización"
     ]
    }
   ],
   "source": [
    "Cholesky([[1,2,3],[4,5,6]])"
   ]
  },
  {
   "cell_type": "markdown",
   "id": "42c9ce92-dfca-4cd5-b12e-c438ea37cd05",
   "metadata": {},
   "source": [
    "Ahora comprobemos que en efecto nuestro código nos da la factorización de Cholesky la cuál debe cumplir $$A=LL^T$$"
   ]
  },
  {
   "cell_type": "code",
   "execution_count": 67,
   "id": "75e4e564-03a9-4662-93c4-9b345a9d5750",
   "metadata": {},
   "outputs": [
    {
     "data": {
      "text/plain": [
       "array([[  6.,  15.,  55.],\n",
       "       [ 15.,  55., 225.],\n",
       "       [ 55., 225., 979.]])"
      ]
     },
     "execution_count": 67,
     "metadata": {},
     "output_type": "execute_result"
    }
   ],
   "source": [
    "Cholesky([[6, 15, 55],[15, 55, 225], [55, 225, 979]])@Cholesky([[6, 15, 55],[15, 55, 225], [55, 225, 979]]).T"
   ]
  },
  {
   "cell_type": "markdown",
   "id": "c91d7f2d-6441-4461-9bb3-2a330e7442cf",
   "metadata": {},
   "source": [
    "### - Función que solucione el sistema Ax=b"
   ]
  },
  {
   "cell_type": "markdown",
   "id": "6eec0db1-fb30-4e78-99d1-8b8597f4be76",
   "metadata": {},
   "source": [
    "Tenemos el sistema, $Ax = b$, de modo que tenemos: \n",
    "$$Ax = b$$ $$\\Rightarrow LL^{T}x = b$$ entonces tenemos que la solución se vería como:\n",
    "$$x = L^{-T}L^{-1}b$$"
   ]
  },
  {
   "cell_type": "code",
   "execution_count": 70,
   "id": "e367c0d9-3ff1-437d-badd-9b6a0b181848",
   "metadata": {},
   "outputs": [],
   "source": [
    "def solution_Cholesky(A,b):\n",
    "    b = np.matrix(b)\n",
    "    descompotition_Cholesky = Cholesky(A)\n",
    "    trans_inv_desc_Cholesky = np.linalg.inv(descompotition_Cholesky.T)\n",
    "    inv_desc_Cholesky = np.linalg.inv(descompotition_Cholesky)\n",
    "    return trans_inv_desc_Cholesky@inv_desc_Cholesky@b"
   ]
  },
  {
   "cell_type": "markdown",
   "id": "9d71aa0c-2350-4fe9-a400-db0d95bb434a",
   "metadata": {},
   "source": [
    "### - Pruebas del funcionamiento del programa"
   ]
  },
  {
   "cell_type": "markdown",
   "id": "789d88c8-1c33-491e-95d2-e87516ddd1d4",
   "metadata": {},
   "source": [
    "Ahora simulemos matrices simétricas, porque de no ser el caso y simplemente simular matríces, podríamos tener que tal matríz no es simétrica, lo cual nos arrojaría un error no propio de la función solución, de esta manera hacemos simulaciones poniendo un \"umbral\" de $E=0.009$"
   ]
  },
  {
   "cell_type": "code",
   "execution_count": 95,
   "id": "3dcfcfb1-7736-4150-8d94-4dc78799cf01",
   "metadata": {},
   "outputs": [],
   "source": [
    "def Random_Symmetric_Matrix():\n",
    "    n = random.randint(1,100)\n",
    "    A = np.random.random_integers(-200,200,size=(n,n))\n",
    "    A_symm = (A + A.T)/2\n",
    "    b_matrix = []\n",
    "    for i in range(n):\n",
    "        b_matrix.append([random.randint(-70,70)])\n",
    "    return A_symm, b_matrix"
   ]
  },
  {
   "cell_type": "code",
   "execution_count": 90,
   "id": "aaef5169-0399-46a0-bf1b-bf2e9b2a6eff",
   "metadata": {},
   "outputs": [],
   "source": [
    "def test_solution_Cholesky(A,b):\n",
    "    matrix_solution = solution_Cholesky(A,b)\n",
    "    Ax_b = A@matrix_solution - b\n",
    "    return np.linalg.norm(Ax_b)"
   ]
  },
  {
   "cell_type": "code",
   "execution_count": 99,
   "id": "3256dca7-15a9-44a9-a2a8-27d140da75a3",
   "metadata": {},
   "outputs": [],
   "source": [
    "def test_final(n):\n",
    "    E = 0.009\n",
    "    solution_test = 0\n",
    "\n",
    "    for i in range(n):\n",
    "        try: \n",
    "            A, b = Random_Symmetric_Matrix()\n",
    "            solution_test = test_solution_Cholesky(A, b)\n",
    "            if solution_test < E:\n",
    "                continue\n",
    "            else: \n",
    "                return f'''Encontramos que\n",
    "                        no se cumple la desigualdad \n",
    "                        en el sistema Ax = b = {A}x = {b}'''\n",
    "        except: \n",
    "            '''Al parecer alguno de estos sistemas no se pudo solucionar.'''\n",
    "    else:\n",
    "        return f'Nuestro programa funciona bien con {n} iteraciones'"
   ]
  },
  {
   "cell_type": "code",
   "execution_count": 98,
   "id": "26b50c9a-d4c3-44a7-8a52-b6d4a7725e3a",
   "metadata": {},
   "outputs": [
    {
     "name": "stderr",
     "output_type": "stream",
     "text": [
      "/var/folders/ln/r540h4b11mv526rjsf8_kdy40000gn/T/ipykernel_732/839567795.py:3: DeprecationWarning: This function is deprecated. Please call randint(-200, 200 + 1) instead\n",
      "  A = np.random.random_integers(-200,200,size=(n,n))\n"
     ]
    },
    {
     "data": {
      "text/plain": [
       "'Nuestro programa funciona bien con 10000 iteraciones'"
      ]
     },
     "execution_count": 98,
     "metadata": {},
     "output_type": "execute_result"
    }
   ],
   "source": [
    "n = 10000\n",
    "test_final(n)"
   ]
  }
 ],
 "metadata": {
  "kernelspec": {
   "display_name": "Python 3 (ipykernel)",
   "language": "python",
   "name": "python3"
  },
  "language_info": {
   "codemirror_mode": {
    "name": "ipython",
    "version": 3
   },
   "file_extension": ".py",
   "mimetype": "text/x-python",
   "name": "python",
   "nbconvert_exporter": "python",
   "pygments_lexer": "ipython3",
   "version": "3.8.12"
  }
 },
 "nbformat": 4,
 "nbformat_minor": 5
}
